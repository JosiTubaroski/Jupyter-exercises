{
 "cells": [
  {
   "cell_type": "code",
   "execution_count": 7,
   "id": "a58a5e2c",
   "metadata": {},
   "outputs": [],
   "source": [
    "import media as m"
   ]
  },
  {
   "cell_type": "code",
   "execution_count": 2,
   "id": "c50805c3",
   "metadata": {},
   "outputs": [],
   "source": [
    "lista = [678, 9968, 4465, 65767]"
   ]
  },
  {
   "cell_type": "code",
   "execution_count": 3,
   "id": "80997ec0",
   "metadata": {},
   "outputs": [
    {
     "name": "stdout",
     "output_type": "stream",
     "text": [
      "20219.5\n"
     ]
    }
   ],
   "source": [
    "print(media.calc_media(lista))"
   ]
  },
  {
   "cell_type": "code",
   "execution_count": 4,
   "id": "86aca54e",
   "metadata": {},
   "outputs": [],
   "source": [
    "lista = [10,10,10,10]"
   ]
  },
  {
   "cell_type": "code",
   "execution_count": 5,
   "id": "5147217e",
   "metadata": {},
   "outputs": [
    {
     "name": "stdout",
     "output_type": "stream",
     "text": [
      "10.0\n"
     ]
    }
   ],
   "source": [
    "print(media.calc_media(lista))"
   ]
  },
  {
   "cell_type": "code",
   "execution_count": 8,
   "id": "cc083987",
   "metadata": {},
   "outputs": [
    {
     "data": {
      "text/plain": [
       "10.0"
      ]
     },
     "execution_count": 8,
     "metadata": {},
     "output_type": "execute_result"
    }
   ],
   "source": [
    "m.calc_media(lista)"
   ]
  },
  {
   "cell_type": "code",
   "execution_count": null,
   "id": "d232b01e",
   "metadata": {},
   "outputs": [],
   "source": []
  }
 ],
 "metadata": {
  "kernelspec": {
   "display_name": "Python 3 (ipykernel)",
   "language": "python",
   "name": "python3"
  },
  "language_info": {
   "codemirror_mode": {
    "name": "ipython",
    "version": 3
   },
   "file_extension": ".py",
   "mimetype": "text/x-python",
   "name": "python",
   "nbconvert_exporter": "python",
   "pygments_lexer": "ipython3",
   "version": "3.9.13"
  }
 },
 "nbformat": 4,
 "nbformat_minor": 5
}
