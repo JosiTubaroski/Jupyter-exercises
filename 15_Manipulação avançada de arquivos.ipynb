{
 "cells": [
  {
   "cell_type": "code",
   "execution_count": 1,
   "id": "95037db4",
   "metadata": {},
   "outputs": [],
   "source": [
    "#Crie um diretorio no c:/raw"
   ]
  },
  {
   "cell_type": "code",
   "execution_count": 9,
   "id": "26616272",
   "metadata": {},
   "outputs": [],
   "source": [
    "#Isto irá criar um arquivo. Quando um arquivo não existe, o parametro W cria um.\n",
    "arquivo = open('C:\\\\raw\\\\teste.txt', 'w')"
   ]
  },
  {
   "cell_type": "code",
   "execution_count": 10,
   "id": "0112bd4e",
   "metadata": {},
   "outputs": [
    {
     "data": {
      "text/plain": [
       "25"
      ]
     },
     "execution_count": 10,
     "metadata": {},
     "output_type": "execute_result"
    }
   ],
   "source": [
    "#Escreva algo no arquivo\n",
    "\n",
    "arquivo.write('Alguma coisa escrita aqui')"
   ]
  },
  {
   "cell_type": "code",
   "execution_count": 4,
   "id": "532a6e68",
   "metadata": {},
   "outputs": [],
   "source": [
    "#Tente deletar o arquivo.\n",
    "#O arquivo não é apagado pois o Python está em poder do arquivo"
   ]
  },
  {
   "cell_type": "code",
   "execution_count": 5,
   "id": "f2ff01d7",
   "metadata": {},
   "outputs": [],
   "source": [
    "#Apos executar o comando abaixo, apague o arquivo\n",
    "\n",
    "arquivo.close()"
   ]
  },
  {
   "cell_type": "code",
   "execution_count": 11,
   "id": "a2835923",
   "metadata": {},
   "outputs": [],
   "source": [
    "#Necessitamos fechar o arquivo após reescrever\n",
    "\n",
    "arquivo.close()"
   ]
  },
  {
   "cell_type": "code",
   "execution_count": 12,
   "id": "f5292662",
   "metadata": {},
   "outputs": [
    {
     "data": {
      "text/plain": [
       "'Alguma coisa escrita aquiAlguma coisa escrita aqui'"
      ]
     },
     "execution_count": 12,
     "metadata": {},
     "output_type": "execute_result"
    }
   ],
   "source": [
    "#Podemos abrir o arquivo em modo leitura e armazenar o conteudo em uma variavel\n",
    "\n",
    "arquivo = open('c:\\\\raw\\\\teste.txt','r')\n",
    "\n",
    "conteudo = arquivo.read()\n",
    "\n",
    "conteudo"
   ]
  },
  {
   "cell_type": "code",
   "execution_count": 13,
   "id": "f47c2da5",
   "metadata": {},
   "outputs": [],
   "source": [
    "#Necessitamos fechar o arquivo\n",
    "\n",
    "arquivo.close()"
   ]
  },
  {
   "cell_type": "code",
   "execution_count": 14,
   "id": "2c0a08fe",
   "metadata": {},
   "outputs": [],
   "source": [
    "#Vamos escrever uma nova linha\n",
    "\n",
    "arquivo = open('c:\\\\raw\\\\teste.txt', 'w')\n",
    "arquivo.write('Escrevendo uma nova linha')\n",
    "arquivo.close()"
   ]
  },
  {
   "cell_type": "code",
   "execution_count": 16,
   "id": "df6bf8f2",
   "metadata": {},
   "outputs": [],
   "source": [
    "#Ao abrir o arquivo, vemos que a linha foi sobrescrita.\n",
    "#Como escrever uma nova linha então?\n",
    "#Como o modo A de APPEND\n",
    "\n",
    "arquivo = open('c:\\\\raw\\\\teste.txt', 'a')\n",
    "arquivo.write('\\nEscrevendo outra linha com append')\n",
    "arquivo.close()"
   ]
  },
  {
   "cell_type": "markdown",
   "id": "e690cddb",
   "metadata": {},
   "source": [
    "# O que aprendemos:\n",
    "\n",
    "  1 - Abrir o arquivo\n",
    "  2 - Ler ou escrever\n",
    "  3 - Fechar o arquivo\n",
    "  \n",
    "# Devemos indicar o caminho do arquivo caso contrário, ele será criado em nosso diretório de trabalho  "
   ]
  },
  {
   "cell_type": "code",
   "execution_count": 17,
   "id": "52fdd461",
   "metadata": {},
   "outputs": [],
   "source": [
    "#Podemos simplificar\n",
    "\n",
    "with open('c:\\\\raw\\\\teste.txt', 'w') as arq:\n",
    "    arq.write('Utilizando WITH')"
   ]
  },
  {
   "cell_type": "markdown",
   "id": "f0927053",
   "metadata": {},
   "source": [
    "# Na próxima aula veremos como interagir com sistema operacional"
   ]
  },
  {
   "cell_type": "code",
   "execution_count": null,
   "id": "d4024bf4",
   "metadata": {},
   "outputs": [],
   "source": []
  }
 ],
 "metadata": {
  "kernelspec": {
   "display_name": "Python 3 (ipykernel)",
   "language": "python",
   "name": "python3"
  },
  "language_info": {
   "codemirror_mode": {
    "name": "ipython",
    "version": 3
   },
   "file_extension": ".py",
   "mimetype": "text/x-python",
   "name": "python",
   "nbconvert_exporter": "python",
   "pygments_lexer": "ipython3",
   "version": "3.9.13"
  }
 },
 "nbformat": 4,
 "nbformat_minor": 5
}
