{
 "cells": [
  {
   "cell_type": "markdown",
   "id": "9a4b7a3d",
   "metadata": {},
   "source": [
    "**Arquivos**"
   ]
  },
  {
   "cell_type": "code",
   "execution_count": null,
   "id": "331ecd67",
   "metadata": {},
   "outputs": [],
   "source": [
    "f = open('.\\cliente_20220316.csv', 'r')"
   ]
  },
  {
   "cell_type": "code",
   "execution_count": null,
   "id": "29df5a37",
   "metadata": {},
   "outputs": [],
   "source": [
    "#A função READ Le o arquivo e atribui a variavel como string\n",
    "\n",
    "arquivo = f.read()"
   ]
  },
  {
   "cell_type": "code",
   "execution_count": null,
   "id": "da8328ee",
   "metadata": {},
   "outputs": [],
   "source": [
    "type(arquivo)"
   ]
  },
  {
   "cell_type": "code",
   "execution_count": null,
   "id": "00e38187",
   "metadata": {},
   "outputs": [],
   "source": [
    "#Imprime a variavel\n",
    "\n",
    "print(arquivo)"
   ]
  },
  {
   "cell_type": "code",
   "execution_count": null,
   "id": "56d082d7",
   "metadata": {},
   "outputs": [],
   "source": [
    "#Fecha o arquivo\n",
    "\n",
    "f.close()"
   ]
  },
  {
   "cell_type": "markdown",
   "id": "a0392a52",
   "metadata": {},
   "source": [
    "**Lendo arquivos com readlines()**"
   ]
  },
  {
   "cell_type": "code",
   "execution_count": null,
   "id": "996f0454",
   "metadata": {},
   "outputs": [],
   "source": [
    "arquivoII = open('.\\cliente_20220316.csv', 'r')\n",
    "arquivoII.readlines()"
   ]
  },
  {
   "cell_type": "code",
   "execution_count": null,
   "id": "da9a642d",
   "metadata": {},
   "outputs": [],
   "source": [
    "type(arquivoII)"
   ]
  },
  {
   "cell_type": "markdown",
   "id": "1e4ee48d",
   "metadata": {},
   "source": [
    "**Criando um Arquivo**"
   ]
  },
  {
   "cell_type": "code",
   "execution_count": null,
   "id": "c99d5fc1",
   "metadata": {},
   "outputs": [],
   "source": [
    "with open('arquivo.csv','w') as arquivo:\n",
    "    arquivo.write(\"conteudo\")"
   ]
  },
  {
   "cell_type": "code",
   "execution_count": null,
   "id": "0a1ecdb5",
   "metadata": {},
   "outputs": [],
   "source": [
    "#O programa le o arquivo e para na ultima posição\n",
    "\n",
    "with open('cliente_20220316.csv') as arquivo:\n",
    "    print(arquivo.read(2))\n",
    "    print(arquivo.read(1))"
   ]
  },
  {
   "cell_type": "markdown",
   "id": "a0f4d869",
   "metadata": {},
   "source": [
    "**Documento Oficial**\n",
    "\n",
    "\n",
    "https://docs.python.org/3/tutorial/inputoutput.html#reading-and-writing-files"
   ]
  },
  {
   "cell_type": "code",
   "execution_count": null,
   "id": "899c9f67",
   "metadata": {},
   "outputs": [],
   "source": [
    "#Strip - Função que retira espaços, equivalente ao TRIN\n",
    "\n",
    "frase = ' frase com espaços '\n",
    "print(frase)\n",
    "print(frase.strip())"
   ]
  },
  {
   "cell_type": "code",
   "execution_count": null,
   "id": "4e5441df",
   "metadata": {},
   "outputs": [],
   "source": [
    "#É importante saber que o python Lê um arquivo com uma sequencia de caracteres e identifica\n",
    "#automaticamente o /n que é o comando new line, ou seja, O ENTER em ASCII\n",
    "\n",
    "lista = ['Objeto01', 'Objeto02'] #Criando uma variavel lista\n",
    "\n",
    "with open(\"Linhas.csv\") as f: #abrindo o arquivo\n",
    "    for linha in f: #realizando um for no arquivo\n",
    "        lista.append(linha.strip())#Adicionando uma nova linha ao fim da lista, removendo espaços\n",
    "        print(lista)"
   ]
  },
  {
   "cell_type": "code",
   "execution_count": null,
   "id": "5a242e8d",
   "metadata": {},
   "outputs": [],
   "source": [
    "f = open('linhas.csv', 'r')\n",
    "file_data = f.read()\n",
    "print(file_data)"
   ]
  }
 ],
 "metadata": {
  "kernelspec": {
   "display_name": "Python 3 (ipykernel)",
   "language": "python",
   "name": "python3"
  },
  "language_info": {
   "codemirror_mode": {
    "name": "ipython",
    "version": 3
   },
   "file_extension": ".py",
   "mimetype": "text/x-python",
   "name": "python",
   "nbconvert_exporter": "python",
   "pygments_lexer": "ipython3",
   "version": "3.9.13"
  }
 },
 "nbformat": 4,
 "nbformat_minor": 5
}
