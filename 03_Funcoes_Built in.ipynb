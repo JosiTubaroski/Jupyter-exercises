{
 "cells": [
  {
   "cell_type": "code",
   "execution_count": 1,
   "id": "3e7c5545",
   "metadata": {},
   "outputs": [
    {
     "name": "stdout",
     "output_type": "stream",
     "text": [
      "Funções\n"
     ]
    }
   ],
   "source": [
    "#Indexação - Converte a expressão em um vetor e retorna a posição de um caracter, indicando entre colchetes.\n",
    "print(\"Funções\")"
   ]
  },
  {
   "cell_type": "code",
   "execution_count": 2,
   "id": "68ff0f18",
   "metadata": {},
   "outputs": [
    {
     "name": "stdout",
     "output_type": "stream",
     "text": [
      "U\n"
     ]
    }
   ],
   "source": [
    "frase = 'Uma vez flamengo, sempre Flamengo!'\n",
    "print(frase[0])"
   ]
  },
  {
   "cell_type": "code",
   "execution_count": 3,
   "id": "843abd30",
   "metadata": {},
   "outputs": [
    {
     "name": "stdout",
     "output_type": "stream",
     "text": [
      "Uma vez flamengo, sempre Flamengo!\n"
     ]
    }
   ],
   "source": [
    "print(frase[0:])"
   ]
  },
  {
   "cell_type": "code",
   "execution_count": 4,
   "id": "84bb5f02",
   "metadata": {},
   "outputs": [
    {
     "name": "stdout",
     "output_type": "stream",
     "text": [
      "ez fl\n"
     ]
    }
   ],
   "source": [
    "print(frase[5:10])"
   ]
  },
  {
   "cell_type": "code",
   "execution_count": 5,
   "id": "96842bc5",
   "metadata": {},
   "outputs": [
    {
     "name": "stdout",
     "output_type": "stream",
     "text": [
      "Uma vez flamengo, sempre Flamengo!\n"
     ]
    }
   ],
   "source": [
    "print(frase[::1])"
   ]
  },
  {
   "cell_type": "code",
   "execution_count": 6,
   "id": "fafe1553",
   "metadata": {},
   "outputs": [
    {
     "name": "stdout",
     "output_type": "stream",
     "text": [
      "Uavzfaeg,smr lmno\n"
     ]
    }
   ],
   "source": [
    "print(frase[::2])"
   ]
  },
  {
   "cell_type": "code",
   "execution_count": 7,
   "id": "b7a8248e",
   "metadata": {},
   "outputs": [
    {
     "name": "stdout",
     "output_type": "stream",
     "text": [
      "!ognemalF erpmes ,ognemalf zev amU\n"
     ]
    }
   ],
   "source": [
    "print(frase[::-1])"
   ]
  },
  {
   "cell_type": "code",
   "execution_count": null,
   "id": "31e41a23",
   "metadata": {},
   "outputs": [],
   "source": [
    "#find - Localiza a primeira ocorrencia de uma string dentro de uma expressão NAO INCLUSA A ULTIMA POSICAO"
   ]
  },
  {
   "cell_type": "code",
   "execution_count": 9,
   "id": "a4ce2b34",
   "metadata": {},
   "outputs": [
    {
     "data": {
      "text/plain": [
       "-1"
      ]
     },
     "execution_count": 9,
     "metadata": {},
     "output_type": "execute_result"
    }
   ],
   "source": [
    "#Retorna -1 em caso de objeto não encontrado\n",
    "frase.find('acesso')"
   ]
  },
  {
   "cell_type": "code",
   "execution_count": 10,
   "id": "cdb8635d",
   "metadata": {},
   "outputs": [
    {
     "data": {
      "text/plain": [
       "8"
      ]
     },
     "execution_count": 10,
     "metadata": {},
     "output_type": "execute_result"
    }
   ],
   "source": [
    "frase.find('flamengo')"
   ]
  },
  {
   "cell_type": "code",
   "execution_count": 11,
   "id": "4a4a59eb",
   "metadata": {},
   "outputs": [
    {
     "data": {
      "text/plain": [
       "27"
      ]
     },
     "execution_count": 11,
     "metadata": {},
     "output_type": "execute_result"
    }
   ],
   "source": [
    "frase.find('Flamengo') + 2"
   ]
  },
  {
   "cell_type": "code",
   "execution_count": null,
   "id": "abdafb59",
   "metadata": {},
   "outputs": [],
   "source": [
    "#Encontrando após a primeira ocorrencia. Basta adicionar um segundo parametro na função, que início da busca"
   ]
  },
  {
   "cell_type": "code",
   "execution_count": 13,
   "id": "dc4fa5fc",
   "metadata": {},
   "outputs": [],
   "source": [
    "hino = \"Uma vez Flamengo, sempre Flamengo!\""
   ]
  },
  {
   "cell_type": "code",
   "execution_count": 14,
   "id": "1d99af4f",
   "metadata": {},
   "outputs": [
    {
     "data": {
      "text/plain": [
       "8"
      ]
     },
     "execution_count": 14,
     "metadata": {},
     "output_type": "execute_result"
    }
   ],
   "source": [
    "hino.find(\"Flamengo\")"
   ]
  },
  {
   "cell_type": "code",
   "execution_count": 15,
   "id": "a3b531e3",
   "metadata": {},
   "outputs": [
    {
     "data": {
      "text/plain": [
       "25"
      ]
     },
     "execution_count": 15,
     "metadata": {},
     "output_type": "execute_result"
    }
   ],
   "source": [
    "hino.find(\"Flamengo\",9)"
   ]
  },
  {
   "cell_type": "code",
   "execution_count": 18,
   "id": "8eeb8a6c",
   "metadata": {},
   "outputs": [
    {
     "data": {
      "text/plain": [
       "'Flamengo!'"
      ]
     },
     "execution_count": 18,
     "metadata": {},
     "output_type": "execute_result"
    }
   ],
   "source": [
    "hino[25:]"
   ]
  },
  {
   "cell_type": "code",
   "execution_count": 19,
   "id": "65e30ece",
   "metadata": {},
   "outputs": [
    {
     "data": {
      "text/plain": [
       "'UMA VEZ FLAMENGO, SEMPRE FLAMENGO!'"
      ]
     },
     "execution_count": 19,
     "metadata": {},
     "output_type": "execute_result"
    }
   ],
   "source": [
    "hino.upper()"
   ]
  },
  {
   "cell_type": "code",
   "execution_count": 20,
   "id": "186639be",
   "metadata": {},
   "outputs": [
    {
     "data": {
      "text/plain": [
       "'uma vez flamengo, sempre flamengo!'"
      ]
     },
     "execution_count": 20,
     "metadata": {},
     "output_type": "execute_result"
    }
   ],
   "source": [
    "hino.lower()"
   ]
  },
  {
   "cell_type": "code",
   "execution_count": 21,
   "id": "26435cb5",
   "metadata": {},
   "outputs": [
    {
     "data": {
      "text/plain": [
       "['Uma', 'vez', 'Flamengo,', 'sempre', 'Flamengo!']"
      ]
     },
     "execution_count": 21,
     "metadata": {},
     "output_type": "execute_result"
    }
   ],
   "source": [
    "hino.split()"
   ]
  },
  {
   "cell_type": "code",
   "execution_count": 22,
   "id": "947ecbbe",
   "metadata": {},
   "outputs": [
    {
     "data": {
      "text/plain": [
       "['Uma vez ', ', sempre ', '!']"
      ]
     },
     "execution_count": 22,
     "metadata": {},
     "output_type": "execute_result"
    }
   ],
   "source": [
    "hino.split('Flamengo')"
   ]
  },
  {
   "cell_type": "code",
   "execution_count": 23,
   "id": "ac722c66",
   "metadata": {},
   "outputs": [
    {
     "data": {
      "text/plain": [
       "True"
      ]
     },
     "execution_count": 23,
     "metadata": {},
     "output_type": "execute_result"
    }
   ],
   "source": [
    "hino.endswith('!')"
   ]
  },
  {
   "cell_type": "code",
   "execution_count": 24,
   "id": "2922dd13",
   "metadata": {},
   "outputs": [
    {
     "data": {
      "text/plain": [
       "False"
      ]
     },
     "execution_count": 24,
     "metadata": {},
     "output_type": "execute_result"
    }
   ],
   "source": [
    "hino.endswith('Flamengo')"
   ]
  },
  {
   "cell_type": "code",
   "execution_count": null,
   "id": "1842fe86",
   "metadata": {},
   "outputs": [],
   "source": []
  }
 ],
 "metadata": {
  "kernelspec": {
   "display_name": "Python 3 (ipykernel)",
   "language": "python",
   "name": "python3"
  },
  "language_info": {
   "codemirror_mode": {
    "name": "ipython",
    "version": 3
   },
   "file_extension": ".py",
   "mimetype": "text/x-python",
   "name": "python",
   "nbconvert_exporter": "python",
   "pygments_lexer": "ipython3",
   "version": "3.9.13"
  }
 },
 "nbformat": 4,
 "nbformat_minor": 5
}
