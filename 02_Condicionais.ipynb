{
 "cells": [
  {
   "cell_type": "code",
   "execution_count": 1,
   "id": "a2aed5c9",
   "metadata": {},
   "outputs": [],
   "source": [
    "#IF - Compara uma expressão e resulta um boleano. Em caso de verdade, entra no bloco, em caso de não verdade, segue o fluxo"
   ]
  },
  {
   "cell_type": "code",
   "execution_count": 3,
   "id": "89fa902a",
   "metadata": {},
   "outputs": [
    {
     "name": "stdout",
     "output_type": "stream",
     "text": [
      "Fora do If\n"
     ]
    }
   ],
   "source": [
    "a = \"Dentro do If\"\n",
    "b = \"Fora do If\"\n",
    "if(2 != 2):\n",
    "    print(a)\n",
    "else:\n",
    "    print(b)"
   ]
  },
  {
   "cell_type": "code",
   "execution_count": 5,
   "id": "6d5213b1",
   "metadata": {},
   "outputs": [
    {
     "name": "stdout",
     "output_type": "stream",
     "text": [
      "Menor que 40 e menor que 10\n"
     ]
    }
   ],
   "source": [
    "num = 9\n",
    "if num > 40:\n",
    "    if num <=50:\n",
    "        print(\"Menor que 50\")\n",
    "    else:\n",
    "        print(\"Maior que 50\")\n",
    "else:\n",
    "    if num <= 40:\n",
    "        if num >= 10:\n",
    "            print(\"Menor que 40 e maior que 10\")\n",
    "        else:\n",
    "            print(\"Menor que 40 e menor que 10\")"
   ]
  },
  {
   "cell_type": "code",
   "execution_count": 6,
   "id": "0102803f",
   "metadata": {},
   "outputs": [
    {
     "name": "stdout",
     "output_type": "stream",
     "text": [
      "maior que 50\n"
     ]
    }
   ],
   "source": [
    "expr = 100\n",
    "if expr > 50:\n",
    "    print('maior que 50')\n",
    "else:\n",
    "    print('menor que 50')"
   ]
  },
  {
   "cell_type": "code",
   "execution_count": 7,
   "id": "6398c99d",
   "metadata": {},
   "outputs": [
    {
     "name": "stdout",
     "output_type": "stream",
     "text": [
      "Opção 3\n"
     ]
    }
   ],
   "source": [
    "if 2 > 3:\n",
    "    print(\"Opção 1\")\n",
    "elif 2 == 3:\n",
    "    print(\"Opção 2\")\n",
    "elif 2 < 3:\n",
    "    print(\"Opção 3\")\n",
    "else:\n",
    "    print(\"Opção 4\")"
   ]
  },
  {
   "cell_type": "code",
   "execution_count": 12,
   "id": "091b305d",
   "metadata": {},
   "outputs": [
    {
     "name": "stdout",
     "output_type": "stream",
     "text": [
      "Impar\n"
     ]
    }
   ],
   "source": [
    "a = 3\n",
    "\n",
    "b = a % 2\n",
    "\n",
    "if b == 0:\n",
    "    \n",
    "    print(\"Par\")\n",
    "    \n",
    "else:\n",
    "    print(\"Impar\")"
   ]
  },
  {
   "cell_type": "code",
   "execution_count": null,
   "id": "b298ef7a",
   "metadata": {},
   "outputs": [],
   "source": []
  }
 ],
 "metadata": {
  "kernelspec": {
   "display_name": "Python 3 (ipykernel)",
   "language": "python",
   "name": "python3"
  },
  "language_info": {
   "codemirror_mode": {
    "name": "ipython",
    "version": 3
   },
   "file_extension": ".py",
   "mimetype": "text/x-python",
   "name": "python",
   "nbconvert_exporter": "python",
   "pygments_lexer": "ipython3",
   "version": "3.9.13"
  }
 },
 "nbformat": 4,
 "nbformat_minor": 5
}
