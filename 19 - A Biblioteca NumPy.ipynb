{
 "cells": [
  {
   "cell_type": "markdown",
   "id": "14692cef",
   "metadata": {},
   "source": [
    "### Numpy - Biblioteca matemática, mais utilizada com Álgebra Linear. Vetores e Matrizes."
   ]
  },
  {
   "cell_type": "code",
   "execution_count": 1,
   "id": "bcd938d9",
   "metadata": {},
   "outputs": [],
   "source": [
    "#Importação do NumPy\n",
    "import numpy as np"
   ]
  },
  {
   "cell_type": "markdown",
   "id": "17806e27",
   "metadata": {},
   "source": [
    "Estrutura Unidimensional"
   ]
  },
  {
   "cell_type": "code",
   "execution_count": 2,
   "id": "51319525",
   "metadata": {},
   "outputs": [],
   "source": [
    "a1 = np.array(['Spark', 'Hadoop', 'Python', 'R'])"
   ]
  },
  {
   "cell_type": "code",
   "execution_count": 3,
   "id": "0ed7014a",
   "metadata": {},
   "outputs": [
    {
     "data": {
      "text/plain": [
       "array(['Spark', 'Hadoop', 'Python', 'R'], dtype='<U6')"
      ]
     },
     "execution_count": 3,
     "metadata": {},
     "output_type": "execute_result"
    }
   ],
   "source": [
    "a1"
   ]
  },
  {
   "cell_type": "markdown",
   "id": "4fade784",
   "metadata": {},
   "source": [
    "### Arrays podem ter listas de tipos diferentes"
   ]
  },
  {
   "cell_type": "markdown",
   "id": "ac91391a",
   "metadata": {},
   "source": [
    "Estruturas Bidimensionais"
   ]
  },
  {
   "cell_type": "code",
   "execution_count": 4,
   "id": "377b62d4",
   "metadata": {},
   "outputs": [],
   "source": [
    "a2 = np.array([['Altura', 'Largura', 'Profundidade'],[42,78,10]])"
   ]
  },
  {
   "cell_type": "code",
   "execution_count": 5,
   "id": "6434731e",
   "metadata": {},
   "outputs": [
    {
     "data": {
      "text/plain": [
       "array([['Altura', 'Largura', 'Profundidade'],\n",
       "       ['42', '78', '10']], dtype='<U12')"
      ]
     },
     "execution_count": 5,
     "metadata": {},
     "output_type": "execute_result"
    }
   ],
   "source": [
    "a2"
   ]
  },
  {
   "cell_type": "code",
   "execution_count": 6,
   "id": "ec5cb117",
   "metadata": {},
   "outputs": [],
   "source": [
    "a3 = np.array([[10,20,30],[40,50,60]])"
   ]
  },
  {
   "cell_type": "code",
   "execution_count": 7,
   "id": "b7a681f1",
   "metadata": {},
   "outputs": [
    {
     "data": {
      "text/plain": [
       "array([[10, 20, 30],\n",
       "       [40, 50, 60]])"
      ]
     },
     "execution_count": 7,
     "metadata": {},
     "output_type": "execute_result"
    }
   ],
   "source": [
    "a3"
   ]
  },
  {
   "cell_type": "code",
   "execution_count": 8,
   "id": "f8a822ae",
   "metadata": {},
   "outputs": [
    {
     "name": "stdout",
     "output_type": "stream",
     "text": [
      "(4,)\n",
      "(2, 3)\n"
     ]
    }
   ],
   "source": [
    "#Tamanho do array\n",
    "print(a1.shape)\n",
    "print(a2.shape)"
   ]
  },
  {
   "cell_type": "code",
   "execution_count": 9,
   "id": "88bd6667",
   "metadata": {},
   "outputs": [
    {
     "data": {
      "text/plain": [
       "1"
      ]
     },
     "execution_count": 9,
     "metadata": {},
     "output_type": "execute_result"
    }
   ],
   "source": [
    "#Dimensoes do Array\n",
    "a1.ndim"
   ]
  },
  {
   "cell_type": "code",
   "execution_count": 10,
   "id": "cbfefaee",
   "metadata": {},
   "outputs": [
    {
     "data": {
      "text/plain": [
       "2"
      ]
     },
     "execution_count": 10,
     "metadata": {},
     "output_type": "execute_result"
    }
   ],
   "source": [
    "a2.ndim"
   ]
  },
  {
   "cell_type": "markdown",
   "id": "fad26cc0",
   "metadata": {},
   "source": [
    "Ausência ou presença de parêntes:\n",
    "\n",
    "Podemos realizar uma analogia com características e ações. O uso de parênteses reflete uma AÇÂO, enquanto a ausencia, reflete uma caracteristica\n",
    "    "
   ]
  },
  {
   "cell_type": "code",
   "execution_count": 11,
   "id": "f2cf1122",
   "metadata": {},
   "outputs": [
    {
     "data": {
      "text/plain": [
       "60"
      ]
     },
     "execution_count": 11,
     "metadata": {},
     "output_type": "execute_result"
    }
   ],
   "source": [
    "#O Método max() não funciona com arrays de tipo heterogeneo\n",
    "a3.max()"
   ]
  },
  {
   "cell_type": "code",
   "execution_count": 12,
   "id": "12479e0d",
   "metadata": {},
   "outputs": [
    {
     "data": {
      "text/plain": [
       "2"
      ]
     },
     "execution_count": 12,
     "metadata": {},
     "output_type": "execute_result"
    }
   ],
   "source": [
    "# Atributo\n",
    "a2.ndim"
   ]
  },
  {
   "cell_type": "markdown",
   "id": "149151c0",
   "metadata": {},
   "source": [
    "### Método Arrange"
   ]
  },
  {
   "cell_type": "code",
   "execution_count": 13,
   "id": "c9e4d235",
   "metadata": {},
   "outputs": [
    {
     "data": {
      "text/plain": [
       "array([ 0,  1,  2,  3,  4,  5,  6,  7,  8,  9, 10, 11, 12, 13, 14, 15, 16,\n",
       "       17, 18, 19])"
      ]
     },
     "execution_count": 13,
     "metadata": {},
     "output_type": "execute_result"
    }
   ],
   "source": [
    "array = np.arange(20)\n",
    "array"
   ]
  },
  {
   "cell_type": "code",
   "execution_count": 14,
   "id": "8f432a23",
   "metadata": {},
   "outputs": [],
   "source": [
    "# Usando start/end - de 0 a 100 de 10 em 10\n",
    "array = np.arange(0, 100, 10)"
   ]
  },
  {
   "cell_type": "code",
   "execution_count": 15,
   "id": "46457075",
   "metadata": {},
   "outputs": [
    {
     "data": {
      "text/plain": [
       "array([ 0, 10, 20, 30, 40, 50, 60, 70, 80, 90])"
      ]
     },
     "execution_count": 15,
     "metadata": {},
     "output_type": "execute_result"
    }
   ],
   "source": [
    "array"
   ]
  },
  {
   "cell_type": "markdown",
   "id": "f0711668",
   "metadata": {},
   "source": [
    "### Criando estruturas de dados com linspace"
   ]
  },
  {
   "cell_type": "code",
   "execution_count": 16,
   "id": "c9795ebe",
   "metadata": {},
   "outputs": [
    {
     "data": {
      "text/plain": [
       "array([ 0.        ,  0.52631579,  1.05263158,  1.57894737,  2.10526316,\n",
       "        2.63157895,  3.15789474,  3.68421053,  4.21052632,  4.73684211,\n",
       "        5.26315789,  5.78947368,  6.31578947,  6.84210526,  7.36842105,\n",
       "        7.89473684,  8.42105263,  8.94736842,  9.47368421, 10.        ])"
      ]
     },
     "execution_count": 16,
     "metadata": {},
     "output_type": "execute_result"
    }
   ],
   "source": [
    "# Fique atento: A diferença do linspace para o orange é que no orange o ultimo argumento é o incremento,\n",
    "# e no linspace o último argumento é o número de elementos do vetor (aleatorio)\n",
    "\n",
    "matriz = np.linspace(0, 10, 20)\n",
    "matriz"
   ]
  },
  {
   "cell_type": "code",
   "execution_count": 18,
   "id": "075c0b94",
   "metadata": {},
   "outputs": [
    {
     "data": {
      "text/plain": [
       "array([ 0. ,  2.5,  5. ,  7.5, 10. ])"
      ]
     },
     "execution_count": 18,
     "metadata": {},
     "output_type": "execute_result"
    }
   ],
   "source": [
    "matriz = np.linspace(0,10,5)\n",
    "matriz"
   ]
  },
  {
   "cell_type": "code",
   "execution_count": 19,
   "id": "1c0fac07",
   "metadata": {},
   "outputs": [
    {
     "data": {
      "text/plain": [
       "array([0.  , 1.25, 2.5 , 3.75, 5.  ])"
      ]
     },
     "execution_count": 19,
     "metadata": {},
     "output_type": "execute_result"
    }
   ],
   "source": [
    "matriz = np.linspace(0,5,5)\n",
    "matriz"
   ]
  },
  {
   "cell_type": "markdown",
   "id": "1fceb81f",
   "metadata": {},
   "source": [
    "### Estruturas de Matrizes"
   ]
  },
  {
   "cell_type": "code",
   "execution_count": 20,
   "id": "227867ea",
   "metadata": {},
   "outputs": [
    {
     "data": {
      "text/plain": [
       "array([[0., 0., 0., 0., 0., 0., 0., 0., 0., 0.],\n",
       "       [0., 0., 0., 0., 0., 0., 0., 0., 0., 0.],\n",
       "       [0., 0., 0., 0., 0., 0., 0., 0., 0., 0.],\n",
       "       [0., 0., 0., 0., 0., 0., 0., 0., 0., 0.],\n",
       "       [0., 0., 0., 0., 0., 0., 0., 0., 0., 0.],\n",
       "       [0., 0., 0., 0., 0., 0., 0., 0., 0., 0.],\n",
       "       [0., 0., 0., 0., 0., 0., 0., 0., 0., 0.],\n",
       "       [0., 0., 0., 0., 0., 0., 0., 0., 0., 0.],\n",
       "       [0., 0., 0., 0., 0., 0., 0., 0., 0., 0.],\n",
       "       [0., 0., 0., 0., 0., 0., 0., 0., 0., 0.]])"
      ]
     },
     "execution_count": 20,
     "metadata": {},
     "output_type": "execute_result"
    }
   ],
   "source": [
    "#numpy.zeros\n",
    "\n",
    "matriz = np.zeros((10,10))\n",
    "matriz"
   ]
  },
  {
   "cell_type": "code",
   "execution_count": 21,
   "id": "1f89b169",
   "metadata": {},
   "outputs": [
    {
     "data": {
      "text/plain": [
       "array([[1., 1., 1.],\n",
       "       [1., 1., 1.]])"
      ]
     },
     "execution_count": 21,
     "metadata": {},
     "output_type": "execute_result"
    }
   ],
   "source": [
    "#numpy.ones\n",
    "matriz = np.ones((2,3))\n",
    "matriz"
   ]
  },
  {
   "cell_type": "code",
   "execution_count": 22,
   "id": "e99ef284",
   "metadata": {},
   "outputs": [
    {
     "data": {
      "text/plain": [
       "array([[9.20790189e-312, 1.76875501e-321, 0.00000000e+000,\n",
       "        0.00000000e+000, 0.00000000e+000],\n",
       "       [1.15998412e-028, 4.31603868e-080, 1.94919985e-153,\n",
       "        1.35717430e+131, 6.01347002e-154],\n",
       "       [3.24245676e-086, 4.46965623e-033, 7.85914197e-067,\n",
       "        6.03108754e-154, 9.06853733e-043],\n",
       "       [8.54510934e-072, 1.03896640e-095, 6.01347002e-154,\n",
       "        1.79576854e-052, 1.95996717e-062],\n",
       "       [9.06853733e-043, 6.51825359e-038, 1.05162717e-153,\n",
       "        7.85915897e-067, 4.04676264e-086],\n",
       "       [9.73265296e-072, 6.01347002e-154, 5.39555299e-062,\n",
       "        6.03109330e-154, 5.64057948e-062],\n",
       "       [3.67199563e-062, 1.08633609e-095, 1.03030888e-071,\n",
       "        3.61550129e-043, 1.48508498e-076],\n",
       "       [6.01347176e-154, 4.65700042e-033, 1.05177457e-153,\n",
       "        1.69054167e-052, 4.85106851e-086],\n",
       "       [7.49985795e-067, 5.64053869e-062, 4.57669087e-072,\n",
       "        6.01347002e-154, 1.06239598e-153],\n",
       "       [3.98472821e+252, 1.06244660e-153, 9.78750380e+199,\n",
       "        6.97843734e+252, 6.80188603e-310]])"
      ]
     },
     "execution_count": 22,
     "metadata": {},
     "output_type": "execute_result"
    }
   ],
   "source": [
    "# numpy.empty produz uma matriz vazia\n",
    "\n",
    "matriz = np.empty((10,5))\n",
    "matriz"
   ]
  },
  {
   "cell_type": "markdown",
   "id": "730df4c8",
   "metadata": {},
   "source": [
    "### numpy.tile"
   ]
  },
  {
   "cell_type": "code",
   "execution_count": 23,
   "id": "be03ecee",
   "metadata": {},
   "outputs": [
    {
     "data": {
      "text/plain": [
       "array([[1, 2, 1, 2, 1, 2],\n",
       "       [3, 4, 3, 4, 3, 4],\n",
       "       [5, 6, 5, 6, 5, 6]])"
      ]
     },
     "execution_count": 23,
     "metadata": {},
     "output_type": "execute_result"
    }
   ],
   "source": [
    "np.tile(np.array([[1,2],[3,4],[5,6]]),3)"
   ]
  },
  {
   "cell_type": "code",
   "execution_count": 24,
   "id": "9eb66196",
   "metadata": {},
   "outputs": [
    {
     "data": {
      "text/plain": [
       "array([[1, 2, 1, 2, 1, 2, 1, 2, 1, 2, 1, 2],\n",
       "       [3, 4, 3, 4, 3, 4, 3, 4, 3, 4, 3, 4],\n",
       "       [5, 6, 5, 6, 5, 6, 5, 6, 5, 6, 5, 6],\n",
       "       [1, 2, 1, 2, 1, 2, 1, 2, 1, 2, 1, 2],\n",
       "       [3, 4, 3, 4, 3, 4, 3, 4, 3, 4, 3, 4],\n",
       "       [5, 6, 5, 6, 5, 6, 5, 6, 5, 6, 5, 6],\n",
       "       [1, 2, 1, 2, 1, 2, 1, 2, 1, 2, 1, 2],\n",
       "       [3, 4, 3, 4, 3, 4, 3, 4, 3, 4, 3, 4],\n",
       "       [5, 6, 5, 6, 5, 6, 5, 6, 5, 6, 5, 6]])"
      ]
     },
     "execution_count": 24,
     "metadata": {},
     "output_type": "execute_result"
    }
   ],
   "source": [
    "np.tile(np.array([[1,2],[3,4],[5,6]]), (3,6)) #Num de vezes do array na vertical, num de vezes array na hotizontal"
   ]
  },
  {
   "cell_type": "code",
   "execution_count": null,
   "id": "1b6e133f",
   "metadata": {},
   "outputs": [],
   "source": []
  }
 ],
 "metadata": {
  "kernelspec": {
   "display_name": "Python 3 (ipykernel)",
   "language": "python",
   "name": "python3"
  },
  "language_info": {
   "codemirror_mode": {
    "name": "ipython",
    "version": 3
   },
   "file_extension": ".py",
   "mimetype": "text/x-python",
   "name": "python",
   "nbconvert_exporter": "python",
   "pygments_lexer": "ipython3",
   "version": "3.9.13"
  }
 },
 "nbformat": 4,
 "nbformat_minor": 5
}
