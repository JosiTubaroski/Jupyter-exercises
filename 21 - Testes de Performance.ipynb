{
 "cells": [
  {
   "cell_type": "markdown",
   "id": "6c1b8283",
   "metadata": {},
   "source": [
    "### Testando o tempo em Python"
   ]
  },
  {
   "cell_type": "code",
   "execution_count": null,
   "id": "97af19f7",
   "metadata": {},
   "outputs": [],
   "source": [
    "%lsmagic"
   ]
  },
  {
   "cell_type": "code",
   "execution_count": 1,
   "id": "e3aea98d",
   "metadata": {},
   "outputs": [
    {
     "name": "stdout",
     "output_type": "stream",
     "text": [
      "22.3 ns ± 2.06 ns per loop (mean ± std. dev. of 7 runs, 100000000 loops each)\n"
     ]
    }
   ],
   "source": [
    "%timeit 3 + 1"
   ]
  },
  {
   "cell_type": "code",
   "execution_count": 2,
   "id": "1dd2e777",
   "metadata": {},
   "outputs": [],
   "source": [
    "def soma(a,b):\n",
    "    num1 = a\n",
    "    num2 = b\n",
    "    resultado = a + b\n",
    "    return resultado"
   ]
  },
  {
   "cell_type": "code",
   "execution_count": 3,
   "id": "f3d23b61",
   "metadata": {},
   "outputs": [
    {
     "name": "stdout",
     "output_type": "stream",
     "text": [
      "212 ns ± 6.71 ns per loop (mean ± std. dev. of 7 runs, 1000000 loops each)\n"
     ]
    }
   ],
   "source": [
    "%timeit soma(3,1)"
   ]
  },
  {
   "cell_type": "code",
   "execution_count": 5,
   "id": "e31a10b6",
   "metadata": {},
   "outputs": [],
   "source": [
    "def soma(a,b):\n",
    "    num1 = a\n",
    "    num2 = b\n",
    "    resultado = a + b"
   ]
  },
  {
   "cell_type": "code",
   "execution_count": 6,
   "id": "591a9b6e",
   "metadata": {},
   "outputs": [
    {
     "name": "stdout",
     "output_type": "stream",
     "text": [
      "212 ns ± 6.26 ns per loop (mean ± std. dev. of 7 runs, 1000000 loops each)\n"
     ]
    }
   ],
   "source": [
    "%timeit soma(3,1)"
   ]
  },
  {
   "cell_type": "code",
   "execution_count": 7,
   "id": "576ba3a6",
   "metadata": {},
   "outputs": [],
   "source": [
    "def soma(a,b):\n",
    "    return a + b"
   ]
  },
  {
   "cell_type": "markdown",
   "id": "4c276ff5",
   "metadata": {},
   "source": [
    "### Testando Arrays Numpy"
   ]
  },
  {
   "cell_type": "code",
   "execution_count": 8,
   "id": "244b2e06",
   "metadata": {},
   "outputs": [
    {
     "name": "stdout",
     "output_type": "stream",
     "text": [
      "1.65 ms ± 42.1 µs per loop (mean ± std. dev. of 7 runs, 1000 loops each)\n"
     ]
    }
   ],
   "source": [
    "%%timeit\n",
    "\n",
    "a = []\n",
    "for i in range(10000):\n",
    "    a.append(i + 7)"
   ]
  },
  {
   "cell_type": "code",
   "execution_count": 9,
   "id": "b7c4575e",
   "metadata": {},
   "outputs": [
    {
     "name": "stdout",
     "output_type": "stream",
     "text": [
      "908 µs ± 19 µs per loop (mean ± std. dev. of 7 runs, 1000 loops each)\n"
     ]
    }
   ],
   "source": [
    "%%timeit\n",
    "\n",
    "a = [ 7 + i for i in range(10000)]"
   ]
  },
  {
   "cell_type": "code",
   "execution_count": 10,
   "id": "d0d7dbd4",
   "metadata": {},
   "outputs": [],
   "source": [
    "import numpy as np"
   ]
  },
  {
   "cell_type": "code",
   "execution_count": 11,
   "id": "04cc24ff",
   "metadata": {},
   "outputs": [
    {
     "name": "stdout",
     "output_type": "stream",
     "text": [
      "16 µs ± 362 ns per loop (mean ± std. dev. of 7 runs, 10000 loops each)\n"
     ]
    }
   ],
   "source": [
    "%%timeit\n",
    "\n",
    "a = [7 + np.arange(10000)]"
   ]
  },
  {
   "cell_type": "code",
   "execution_count": null,
   "id": "3a4d1704",
   "metadata": {},
   "outputs": [],
   "source": []
  }
 ],
 "metadata": {
  "kernelspec": {
   "display_name": "Python 3 (ipykernel)",
   "language": "python",
   "name": "python3"
  },
  "language_info": {
   "codemirror_mode": {
    "name": "ipython",
    "version": 3
   },
   "file_extension": ".py",
   "mimetype": "text/x-python",
   "name": "python",
   "nbconvert_exporter": "python",
   "pygments_lexer": "ipython3",
   "version": "3.9.13"
  }
 },
 "nbformat": 4,
 "nbformat_minor": 5
}
