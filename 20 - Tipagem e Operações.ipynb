{
 "cells": [
  {
   "cell_type": "code",
   "execution_count": 1,
   "id": "f7222d85",
   "metadata": {},
   "outputs": [],
   "source": [
    "#Importação do NumPy\n",
    "import numpy as np"
   ]
  },
  {
   "cell_type": "markdown",
   "id": "5511e34b",
   "metadata": {},
   "source": [
    "### Tipagem de Dados"
   ]
  },
  {
   "cell_type": "code",
   "execution_count": 2,
   "id": "fa6a98fa",
   "metadata": {},
   "outputs": [],
   "source": [
    "#Podemos passar um tipo para Array por parametro\n",
    "\n",
    "a = np.array([-10,10,20,30], dtype = 'float')"
   ]
  },
  {
   "cell_type": "code",
   "execution_count": 3,
   "id": "e69186ea",
   "metadata": {},
   "outputs": [
    {
     "data": {
      "text/plain": [
       "array([-10.,  10.,  20.,  30.])"
      ]
     },
     "execution_count": 3,
     "metadata": {},
     "output_type": "execute_result"
    }
   ],
   "source": [
    "a"
   ]
  },
  {
   "cell_type": "code",
   "execution_count": 4,
   "id": "e19ef6bc",
   "metadata": {},
   "outputs": [
    {
     "data": {
      "text/plain": [
       "dtype('float64')"
      ]
     },
     "execution_count": 4,
     "metadata": {},
     "output_type": "execute_result"
    }
   ],
   "source": [
    "#A propriedade dtype me retorna o tipo dos elementos do array\n",
    "\n",
    "a.dtype"
   ]
  },
  {
   "cell_type": "code",
   "execution_count": 9,
   "id": "f66c7fdb",
   "metadata": {},
   "outputs": [
    {
     "data": {
      "text/plain": [
       "dtype('int32')"
      ]
     },
     "execution_count": 9,
     "metadata": {},
     "output_type": "execute_result"
    }
   ],
   "source": [
    "#Caso eu não passe o tipo para o python, ele definirá automaticamente\n",
    "\n",
    "b = np.array([-10,10,20,30])\n",
    "\n",
    "b.dtype"
   ]
  },
  {
   "cell_type": "code",
   "execution_count": 8,
   "id": "9dc3f05b",
   "metadata": {},
   "outputs": [
    {
     "data": {
      "text/plain": [
       "array([-10,  10,  20,  30])"
      ]
     },
     "execution_count": 8,
     "metadata": {},
     "output_type": "execute_result"
    }
   ],
   "source": [
    "b"
   ]
  },
  {
   "cell_type": "code",
   "execution_count": null,
   "id": "bd312ca5",
   "metadata": {},
   "outputs": [],
   "source": [
    "d.dtype"
   ]
  },
  {
   "cell_type": "code",
   "execution_count": 10,
   "id": "00fb15dc",
   "metadata": {},
   "outputs": [
    {
     "data": {
      "text/plain": [
       "dtype('float64')"
      ]
     },
     "execution_count": 10,
     "metadata": {},
     "output_type": "execute_result"
    }
   ],
   "source": [
    "#Caso exista um elemento diferente dos demais, o Python irá tipar o array pelo elemento mais especifico.\n",
    "\n",
    "c = np.array([10,20,30,40.5])\n",
    "c.dtype"
   ]
  },
  {
   "cell_type": "code",
   "execution_count": 11,
   "id": "30e0f414",
   "metadata": {},
   "outputs": [],
   "source": [
    "#Podemos tambèm ter um tipo string\n",
    "\n",
    "d = np.array(['Universidade', 'dos', 'Dados'])"
   ]
  },
  {
   "cell_type": "code",
   "execution_count": 12,
   "id": "4a68f9bf",
   "metadata": {},
   "outputs": [
    {
     "data": {
      "text/plain": [
       "dtype('<U12')"
      ]
     },
     "execution_count": 12,
     "metadata": {},
     "output_type": "execute_result"
    }
   ],
   "source": [
    "d.dtype"
   ]
  },
  {
   "cell_type": "code",
   "execution_count": 13,
   "id": "453d8605",
   "metadata": {},
   "outputs": [],
   "source": [
    "#Array do tipo boleano\n",
    "\n",
    "e = np.array([False, False, True])"
   ]
  },
  {
   "cell_type": "code",
   "execution_count": 14,
   "id": "31590eec",
   "metadata": {},
   "outputs": [
    {
     "data": {
      "text/plain": [
       "dtype('bool')"
      ]
     },
     "execution_count": 14,
     "metadata": {},
     "output_type": "execute_result"
    }
   ],
   "source": [
    "e.dtype"
   ]
  },
  {
   "cell_type": "markdown",
   "id": "04c7ff85",
   "metadata": {},
   "source": [
    "### Cast de Arrays"
   ]
  },
  {
   "cell_type": "code",
   "execution_count": 15,
   "id": "1a4d10c5",
   "metadata": {},
   "outputs": [
    {
     "data": {
      "text/plain": [
       "dtype('float64')"
      ]
     },
     "execution_count": 15,
     "metadata": {},
     "output_type": "execute_result"
    }
   ],
   "source": [
    "f = np.array([-9, 10, 20.7])\n",
    "f.dtype"
   ]
  },
  {
   "cell_type": "code",
   "execution_count": 16,
   "id": "527e2652",
   "metadata": {},
   "outputs": [
    {
     "data": {
      "text/plain": [
       "array([-9, 10, 20])"
      ]
     },
     "execution_count": 16,
     "metadata": {},
     "output_type": "execute_result"
    }
   ],
   "source": [
    "#Posso realizar um CAST com a função astype()\n",
    "\n",
    "f.astype(int)"
   ]
  },
  {
   "cell_type": "markdown",
   "id": "b36cfece",
   "metadata": {},
   "source": [
    "### Criando Arrays com operações aritméticas em tempo de execução"
   ]
  },
  {
   "cell_type": "code",
   "execution_count": 17,
   "id": "b39143a0",
   "metadata": {},
   "outputs": [
    {
     "data": {
      "text/plain": [
       "array([0, 1, 2, 3, 4])"
      ]
     },
     "execution_count": 17,
     "metadata": {},
     "output_type": "execute_result"
    }
   ],
   "source": [
    "#Aprendemos que a função arange serve para criar um array\n",
    "\n",
    "array = np.arange(0,5)\n",
    "array"
   ]
  },
  {
   "cell_type": "code",
   "execution_count": 18,
   "id": "d1b172ea",
   "metadata": {},
   "outputs": [],
   "source": [
    "# Podemos criar um array com qualquer operação aritmética\n",
    "\n",
    "array = np.arange(0, 10) * 10"
   ]
  },
  {
   "cell_type": "code",
   "execution_count": 19,
   "id": "fc600726",
   "metadata": {},
   "outputs": [
    {
     "data": {
      "text/plain": [
       "array([ 0, 10, 20, 30, 40, 50, 60, 70, 80, 90])"
      ]
     },
     "execution_count": 19,
     "metadata": {},
     "output_type": "execute_result"
    }
   ],
   "source": [
    "array"
   ]
  },
  {
   "cell_type": "code",
   "execution_count": 20,
   "id": "6f1b8380",
   "metadata": {},
   "outputs": [],
   "source": [
    "# Potencia\n",
    "array = np.arange(10) ** 2"
   ]
  },
  {
   "cell_type": "code",
   "execution_count": 21,
   "id": "7fced52f",
   "metadata": {},
   "outputs": [
    {
     "data": {
      "text/plain": [
       "array([ 0,  1,  4,  9, 16, 25, 36, 49, 64, 81], dtype=int32)"
      ]
     },
     "execution_count": 21,
     "metadata": {},
     "output_type": "execute_result"
    }
   ],
   "source": [
    "array"
   ]
  },
  {
   "cell_type": "markdown",
   "id": "eb1e42ae",
   "metadata": {},
   "source": [
    "### Operações Aritméticas entre Arrays"
   ]
  },
  {
   "cell_type": "code",
   "execution_count": 22,
   "id": "4e5650b6",
   "metadata": {},
   "outputs": [],
   "source": [
    "arrayA = np.arange(0,10)\n",
    "arrayB = np.arange(0,10)+1"
   ]
  },
  {
   "cell_type": "code",
   "execution_count": 23,
   "id": "5c824f6a",
   "metadata": {},
   "outputs": [
    {
     "data": {
      "text/plain": [
       "array([0, 1, 2, 3, 4, 5, 6, 7, 8, 9])"
      ]
     },
     "execution_count": 23,
     "metadata": {},
     "output_type": "execute_result"
    }
   ],
   "source": [
    "arrayA"
   ]
  },
  {
   "cell_type": "code",
   "execution_count": 24,
   "id": "9c32a381",
   "metadata": {},
   "outputs": [
    {
     "data": {
      "text/plain": [
       "array([ 1,  2,  3,  4,  5,  6,  7,  8,  9, 10])"
      ]
     },
     "execution_count": 24,
     "metadata": {},
     "output_type": "execute_result"
    }
   ],
   "source": [
    "arrayB"
   ]
  },
  {
   "cell_type": "code",
   "execution_count": 25,
   "id": "cbb5f8f7",
   "metadata": {},
   "outputs": [
    {
     "data": {
      "text/plain": [
       "array([ 1,  3,  5,  7,  9, 11, 13, 15, 17, 19])"
      ]
     },
     "execution_count": 25,
     "metadata": {},
     "output_type": "execute_result"
    }
   ],
   "source": [
    "# Soma\n",
    "arrayA + arrayB"
   ]
  },
  {
   "cell_type": "code",
   "execution_count": 27,
   "id": "f67508eb",
   "metadata": {},
   "outputs": [
    {
     "data": {
      "text/plain": [
       "array([1, 1, 1, 1, 1, 1, 1, 1, 1, 1])"
      ]
     },
     "execution_count": 27,
     "metadata": {},
     "output_type": "execute_result"
    }
   ],
   "source": [
    "# Subtração\n",
    "arrayB - arrayA"
   ]
  },
  {
   "cell_type": "code",
   "execution_count": 28,
   "id": "e41c350c",
   "metadata": {},
   "outputs": [
    {
     "data": {
      "text/plain": [
       "array([0.        , 0.5       , 0.66666667, 0.75      , 0.8       ,\n",
       "       0.83333333, 0.85714286, 0.875     , 0.88888889, 0.9       ])"
      ]
     },
     "execution_count": 28,
     "metadata": {},
     "output_type": "execute_result"
    }
   ],
   "source": [
    "# Divisão\n",
    "arrayA / arrayB"
   ]
  },
  {
   "cell_type": "code",
   "execution_count": 29,
   "id": "3f6a4973",
   "metadata": {},
   "outputs": [
    {
     "data": {
      "text/plain": [
       "array([ 0,  2,  6, 12, 20, 30, 42, 56, 72, 90])"
      ]
     },
     "execution_count": 29,
     "metadata": {},
     "output_type": "execute_result"
    }
   ],
   "source": [
    "# Multiplicação\n",
    "arrayA * arrayB"
   ]
  },
  {
   "cell_type": "code",
   "execution_count": 30,
   "id": "9261ba09",
   "metadata": {},
   "outputs": [
    {
     "data": {
      "text/plain": [
       "array([False, False, False, False, False, False, False, False, False,\n",
       "       False])"
      ]
     },
     "execution_count": 30,
     "metadata": {},
     "output_type": "execute_result"
    }
   ],
   "source": [
    "# Comparação de arrays\n",
    "arrayA == arrayB"
   ]
  },
  {
   "cell_type": "code",
   "execution_count": 31,
   "id": "155e1190",
   "metadata": {},
   "outputs": [
    {
     "data": {
      "text/plain": [
       "array([False, False, False, False, False, False, False, False, False,\n",
       "       False])"
      ]
     },
     "execution_count": 31,
     "metadata": {},
     "output_type": "execute_result"
    }
   ],
   "source": [
    "arrayA > arrayB"
   ]
  },
  {
   "cell_type": "code",
   "execution_count": 32,
   "id": "3ee3a0c6",
   "metadata": {},
   "outputs": [
    {
     "data": {
      "text/plain": [
       "array([ True,  True,  True,  True,  True,  True,  True,  True,  True,\n",
       "        True])"
      ]
     },
     "execution_count": 32,
     "metadata": {},
     "output_type": "execute_result"
    }
   ],
   "source": [
    "arrayA < arrayB"
   ]
  },
  {
   "cell_type": "code",
   "execution_count": 33,
   "id": "3a70a13a",
   "metadata": {},
   "outputs": [],
   "source": [
    "#Podemos ainda utilizar a tabela verdade para comparar dois arrays utilizando por exemplo a Logica AND"
   ]
  },
  {
   "cell_type": "code",
   "execution_count": 34,
   "id": "7bda880d",
   "metadata": {},
   "outputs": [
    {
     "data": {
      "text/plain": [
       "array([False, False,  True, False])"
      ]
     },
     "execution_count": 34,
     "metadata": {},
     "output_type": "execute_result"
    }
   ],
   "source": [
    "array1 = np.array([True,False,True,False])\n",
    "array2 = np.array([False,False,True,False])\n",
    "np.logical_and(array1, array2)"
   ]
  },
  {
   "cell_type": "code",
   "execution_count": 35,
   "id": "920d05f6",
   "metadata": {},
   "outputs": [
    {
     "data": {
      "text/plain": [
       "array([ True, False,  True, False])"
      ]
     },
     "execution_count": 35,
     "metadata": {},
     "output_type": "execute_result"
    }
   ],
   "source": [
    "array1 = np.array([True,False,True,False])\n",
    "array2 = np.array([False,False,True,False])\n",
    "np.logical_or(array1, array2)"
   ]
  },
  {
   "cell_type": "markdown",
   "id": "2c597bb0",
   "metadata": {},
   "source": [
    "### Arrays com tamanho diferente"
   ]
  },
  {
   "cell_type": "code",
   "execution_count": 36,
   "id": "b825f8de",
   "metadata": {},
   "outputs": [],
   "source": [
    "A = np.array([1,2,3,4,5])\n",
    "B = np.array([1,2,3])"
   ]
  },
  {
   "cell_type": "markdown",
   "id": "4a5a627e",
   "metadata": {},
   "source": [
    "### Não é possivel fazer calculos com arrays de tamanhos diferentes"
   ]
  },
  {
   "cell_type": "code",
   "execution_count": 37,
   "id": "84abab77",
   "metadata": {},
   "outputs": [
    {
     "ename": "ValueError",
     "evalue": "operands could not be broadcast together with shapes (5,) (3,) ",
     "output_type": "error",
     "traceback": [
      "\u001b[1;31m---------------------------------------------------------------------------\u001b[0m",
      "\u001b[1;31mValueError\u001b[0m                                Traceback (most recent call last)",
      "\u001b[1;32m~\\AppData\\Local\\Temp\\ipykernel_2804\\3382234005.py\u001b[0m in \u001b[0;36m<module>\u001b[1;34m\u001b[0m\n\u001b[1;32m----> 1\u001b[1;33m \u001b[0mA\u001b[0m \u001b[1;33m*\u001b[0m \u001b[0mB\u001b[0m\u001b[1;33m\u001b[0m\u001b[1;33m\u001b[0m\u001b[0m\n\u001b[0m",
      "\u001b[1;31mValueError\u001b[0m: operands could not be broadcast together with shapes (5,) (3,) "
     ]
    }
   ],
   "source": [
    "A * B"
   ]
  },
  {
   "cell_type": "markdown",
   "id": "6c6d0661",
   "metadata": {},
   "source": [
    "### Dot Product"
   ]
  },
  {
   "cell_type": "code",
   "execution_count": 38,
   "id": "604fbc28",
   "metadata": {},
   "outputs": [],
   "source": [
    "A = np.array([2,4,6])\n",
    "B = np.array([2,2,2])"
   ]
  },
  {
   "cell_type": "code",
   "execution_count": 39,
   "id": "01cea246",
   "metadata": {},
   "outputs": [
    {
     "data": {
      "text/plain": [
       "array([ 4,  8, 12])"
      ]
     },
     "execution_count": 39,
     "metadata": {},
     "output_type": "execute_result"
    }
   ],
   "source": [
    "#Hadmard Product\n",
    "\n",
    "A * B"
   ]
  },
  {
   "cell_type": "code",
   "execution_count": 40,
   "id": "9f091d79",
   "metadata": {},
   "outputs": [
    {
     "name": "stdout",
     "output_type": "stream",
     "text": [
      "24\n"
     ]
    }
   ],
   "source": [
    "#Dot Product\n",
    "\n",
    "print(np.dot(A,B))"
   ]
  },
  {
   "cell_type": "markdown",
   "id": "49a6f637",
   "metadata": {},
   "source": [
    "### Cópias de Arrays"
   ]
  },
  {
   "cell_type": "code",
   "execution_count": 41,
   "id": "0f120088",
   "metadata": {},
   "outputs": [],
   "source": [
    "A = np.arange(10)"
   ]
  },
  {
   "cell_type": "code",
   "execution_count": 42,
   "id": "c6c88552",
   "metadata": {},
   "outputs": [
    {
     "data": {
      "text/plain": [
       "array([0, 1, 2, 3, 4, 5, 6, 7, 8, 9])"
      ]
     },
     "execution_count": 42,
     "metadata": {},
     "output_type": "execute_result"
    }
   ],
   "source": [
    "A"
   ]
  },
  {
   "cell_type": "code",
   "execution_count": 43,
   "id": "ef539245",
   "metadata": {},
   "outputs": [],
   "source": [
    "B = A[5:]"
   ]
  },
  {
   "cell_type": "code",
   "execution_count": 44,
   "id": "4687336a",
   "metadata": {},
   "outputs": [
    {
     "data": {
      "text/plain": [
       "array([5, 6, 7, 8, 9])"
      ]
     },
     "execution_count": 44,
     "metadata": {},
     "output_type": "execute_result"
    }
   ],
   "source": [
    "B"
   ]
  },
  {
   "cell_type": "code",
   "execution_count": 45,
   "id": "f41b53f8",
   "metadata": {},
   "outputs": [],
   "source": [
    "A[:] = 0"
   ]
  },
  {
   "cell_type": "code",
   "execution_count": 46,
   "id": "7f60fe68",
   "metadata": {},
   "outputs": [
    {
     "data": {
      "text/plain": [
       "array([0, 0, 0, 0, 0])"
      ]
     },
     "execution_count": 46,
     "metadata": {},
     "output_type": "execute_result"
    }
   ],
   "source": [
    "B"
   ]
  },
  {
   "cell_type": "code",
   "execution_count": 47,
   "id": "b44c988e",
   "metadata": {},
   "outputs": [],
   "source": [
    "A = np.arange(10)"
   ]
  },
  {
   "cell_type": "code",
   "execution_count": 48,
   "id": "0262ae4b",
   "metadata": {},
   "outputs": [
    {
     "data": {
      "text/plain": [
       "array([0, 1, 2, 3, 4, 5, 6, 7, 8, 9])"
      ]
     },
     "execution_count": 48,
     "metadata": {},
     "output_type": "execute_result"
    }
   ],
   "source": [
    "A"
   ]
  },
  {
   "cell_type": "code",
   "execution_count": null,
   "id": "f0c1aa67",
   "metadata": {},
   "outputs": [],
   "source": []
  }
 ],
 "metadata": {
  "kernelspec": {
   "display_name": "Python 3 (ipykernel)",
   "language": "python",
   "name": "python3"
  },
  "language_info": {
   "codemirror_mode": {
    "name": "ipython",
    "version": 3
   },
   "file_extension": ".py",
   "mimetype": "text/x-python",
   "name": "python",
   "nbconvert_exporter": "python",
   "pygments_lexer": "ipython3",
   "version": "3.9.13"
  }
 },
 "nbformat": 4,
 "nbformat_minor": 5
}
