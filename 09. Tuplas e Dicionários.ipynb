{
 "cells": [
  {
   "cell_type": "markdown",
   "id": "869e00ce",
   "metadata": {},
   "source": [
    "**Tuplas**"
   ]
  },
  {
   "cell_type": "code",
   "execution_count": 4,
   "id": "2ad59a22",
   "metadata": {},
   "outputs": [],
   "source": [
    "Rio_de_Janeiro = (2410, 1227)\n",
    "Salvador = (5816,3039)\n",
    "Recife = (314, 5252)"
   ]
  },
  {
   "cell_type": "code",
   "execution_count": 5,
   "id": "2d4fa2ea",
   "metadata": {},
   "outputs": [
    {
     "name": "stdout",
     "output_type": "stream",
     "text": [
      "(2410, 1227)\n",
      "(5816, 3039)\n",
      "(314, 5252)\n"
     ]
    }
   ],
   "source": [
    "print(Rio_de_Janeiro)\n",
    "print(Salvador)\n",
    "print(Recife)"
   ]
  },
  {
   "cell_type": "code",
   "execution_count": 6,
   "id": "350dde3b",
   "metadata": {},
   "outputs": [
    {
     "name": "stdout",
     "output_type": "stream",
     "text": [
      "<class 'tuple'>\n"
     ]
    }
   ],
   "source": [
    "#Verificando o tipo\n",
    "\n",
    "print(type(Salvador))"
   ]
  },
  {
   "cell_type": "code",
   "execution_count": 7,
   "id": "2e9df9e6",
   "metadata": {},
   "outputs": [
    {
     "name": "stdout",
     "output_type": "stream",
     "text": [
      "1227\n"
     ]
    }
   ],
   "source": [
    "#Elemento de uma tupla\n",
    "\n",
    "print(Rio_de_Janeiro[1])"
   ]
  },
  {
   "cell_type": "code",
   "execution_count": 11,
   "id": "a4a1eaf4",
   "metadata": {},
   "outputs": [
    {
     "name": "stdout",
     "output_type": "stream",
     "text": [
      "As dimensões sao 52 x 40 x 100\n",
      "As dimensoes sao 52 x 40 x 100\n"
     ]
    }
   ],
   "source": [
    "#Descompactando Tuplas\n",
    "#Observe que as tuplas estao sem parenteses, isso é frequentemente utilizado, mas não recomendado\n",
    "\n",
    "#O Format é um método do tipo STRING\n",
    "\n",
    "dimensoes = 52, 40, 100\n",
    "largura, altura, profundidade = dimensoes\n",
    "print(\"As dimensões sao {} x {} x {}\".format(largura, altura, profundidade))\n",
    "print(\"As dimensoes sao\",largura,\"x\", altura,\"x\",profundidade)"
   ]
  },
  {
   "cell_type": "code",
   "execution_count": 16,
   "id": "6bd3aa60",
   "metadata": {},
   "outputs": [
    {
     "name": "stdout",
     "output_type": "stream",
     "text": [
      "A latitude de Salavor é 5816\n"
     ]
    }
   ],
   "source": [
    "print(\"A latitude de Salavor é {}\".format(Salvador[0]))"
   ]
  },
  {
   "cell_type": "code",
   "execution_count": 17,
   "id": "0ec5e5ba",
   "metadata": {},
   "outputs": [
    {
     "ename": "NameError",
     "evalue": "name 'Salvar' is not defined",
     "output_type": "error",
     "traceback": [
      "\u001b[1;31m---------------------------------------------------------------------------\u001b[0m",
      "\u001b[1;31mNameError\u001b[0m                                 Traceback (most recent call last)",
      "\u001b[1;32m~\\AppData\\Local\\Temp\\ipykernel_17460\\4235702846.py\u001b[0m in \u001b[0;36m<module>\u001b[1;34m\u001b[0m\n\u001b[1;32m----> 1\u001b[1;33m \u001b[0mSalvar\u001b[0m\u001b[1;33m[\u001b[0m\u001b[1;36m0\u001b[0m\u001b[1;33m]\u001b[0m \u001b[1;33m=\u001b[0m \u001b[1;36m2222\u001b[0m\u001b[1;33m\u001b[0m\u001b[1;33m\u001b[0m\u001b[0m\n\u001b[0m",
      "\u001b[1;31mNameError\u001b[0m: name 'Salvar' is not defined"
     ]
    }
   ],
   "source": [
    "Salvar[0] = 2222"
   ]
  },
  {
   "cell_type": "code",
   "execution_count": 18,
   "id": "160a8b2b",
   "metadata": {},
   "outputs": [],
   "source": [
    "del Salvador"
   ]
  },
  {
   "cell_type": "code",
   "execution_count": 19,
   "id": "45a3709e",
   "metadata": {},
   "outputs": [
    {
     "ename": "NameError",
     "evalue": "name 'Salvador' is not defined",
     "output_type": "error",
     "traceback": [
      "\u001b[1;31m---------------------------------------------------------------------------\u001b[0m",
      "\u001b[1;31mNameError\u001b[0m                                 Traceback (most recent call last)",
      "\u001b[1;32m~\\AppData\\Local\\Temp\\ipykernel_17460\\4116666555.py\u001b[0m in \u001b[0;36m<module>\u001b[1;34m\u001b[0m\n\u001b[1;32m----> 1\u001b[1;33m \u001b[0mSalvador\u001b[0m\u001b[1;33m[\u001b[0m\u001b[1;36m0\u001b[0m\u001b[1;33m]\u001b[0m\u001b[1;33m\u001b[0m\u001b[1;33m\u001b[0m\u001b[0m\n\u001b[0m",
      "\u001b[1;31mNameError\u001b[0m: name 'Salvador' is not defined"
     ]
    }
   ],
   "source": [
    "Salvador[0]"
   ]
  },
  {
   "cell_type": "markdown",
   "id": "e3d72c13",
   "metadata": {},
   "source": [
    "**Argumentos Padrões**"
   ]
  },
  {
   "cell_type": "code",
   "execution_count": 20,
   "id": "e1828320",
   "metadata": {},
   "outputs": [],
   "source": [
    "def box(largura, altura, caracter):\n",
    "    print(caracter * largura) #imprimindo o caracter multiplicado pela largura\n",
    "    \n",
    "    for i in range(altura - 2):\n",
    "        print(caracter + \" \" * (largura-2) + caracter)\n",
    "     \n",
    "    print(caracter * largura)"
   ]
  },
  {
   "cell_type": "code",
   "execution_count": 24,
   "id": "17333fb2",
   "metadata": {},
   "outputs": [
    {
     "name": "stdout",
     "output_type": "stream",
     "text": [
      "@@@\n",
      "@ @\n",
      "@@@\n"
     ]
    }
   ],
   "source": [
    "box(3,3,'@')"
   ]
  },
  {
   "cell_type": "code",
   "execution_count": 25,
   "id": "fead7322",
   "metadata": {},
   "outputs": [],
   "source": [
    "def box(largura, altura, caracter = '%'):\n",
    "    print(caracter * largura) #imprimindo o caracter multiplicado pela largura\n",
    "    \n",
    "    for i in range(altura - 2):\n",
    "        print(caracter + \" \" * (largura-2) + caracter)\n",
    "     \n",
    "    print(caracter * largura)"
   ]
  },
  {
   "cell_type": "code",
   "execution_count": 26,
   "id": "40b5ac78",
   "metadata": {},
   "outputs": [
    {
     "name": "stdout",
     "output_type": "stream",
     "text": [
      "%%%%%%%%%%%%%%%%%%%%%%%%%%%%%%%%%%%%%%%%%%%%%%%%%%\n",
      "%                                                %\n",
      "%                                                %\n",
      "%                                                %\n",
      "%                                                %\n",
      "%                                                %\n",
      "%                                                %\n",
      "%                                                %\n",
      "%                                                %\n",
      "%%%%%%%%%%%%%%%%%%%%%%%%%%%%%%%%%%%%%%%%%%%%%%%%%%\n"
     ]
    }
   ],
   "source": [
    "box(50,10)"
   ]
  },
  {
   "cell_type": "markdown",
   "id": "39abab95",
   "metadata": {},
   "source": [
    "**Dicionários**"
   ]
  },
  {
   "cell_type": "markdown",
   "id": "43fd713f",
   "metadata": {},
   "source": [
    "A diferença mais marcante entre listas e dicionários é que mesmo ambas sendo uma coleção de objetos mutáveis, \n",
    "as listas organizam-se por indices posicionais, enquanto os dicionários organizam-se por padrão CHAVE VALOR. \n",
    "Lembra-se do Map Reduce?"
   ]
  },
  {
   "cell_type": "code",
   "execution_count": 6,
   "id": "ec601075",
   "metadata": {},
   "outputs": [],
   "source": [
    "#Tuplas são criadas com parenteses, listas são criadas com colchetes, dicionários são criados com chaves\n",
    "\n",
    "Grunt = {'categoria':'guerreiro', 'força': 110, 'experiencia':50, 'vida':100, 'cura':70}\n",
    "Shallur = {'categoria':'mago', 'força':50, 'experiencia':120, 'vida':60, 'cura':100}\n",
    "Eldor = {'categoria':'elfo','força':70,'experiencia':80,'vida':120,'cura':110}"
   ]
  },
  {
   "cell_type": "code",
   "execution_count": 7,
   "id": "823611c0",
   "metadata": {},
   "outputs": [
    {
     "name": "stdout",
     "output_type": "stream",
     "text": [
      "{'categoria': 'guerreiro', 'força': 110, 'experiencia': 50, 'vida': 100, 'cura': 70}\n",
      "{'categoria': 'mago', 'força': 50, 'experiencia': 120, 'vida': 60, 'cura': 100}\n",
      "{'categoria': 'elfo', 'força': 70, 'experiencia': 80, 'vida': 120, 'cura': 110}\n"
     ]
    }
   ],
   "source": [
    "print(Grunt)\n",
    "print(Shallur)\n",
    "print(Eldor)"
   ]
  },
  {
   "cell_type": "code",
   "execution_count": null,
   "id": "9b2e77e1",
   "metadata": {},
   "outputs": [],
   "source": [
    "#Indexando por Chave"
   ]
  },
  {
   "cell_type": "code",
   "execution_count": 8,
   "id": "45c7b5ae",
   "metadata": {},
   "outputs": [
    {
     "name": "stdout",
     "output_type": "stream",
     "text": [
      "Força do Grunt 110\n",
      "Experiencia de Eldor 80\n"
     ]
    }
   ],
   "source": [
    "print('Força do Grunt',Grunt['força'])\n",
    "print('Experiencia de Eldor', Eldor['experiencia'])"
   ]
  },
  {
   "cell_type": "code",
   "execution_count": 23,
   "id": "7c0eb184",
   "metadata": {},
   "outputs": [],
   "source": [
    "# Criando um dicionario vazio\n",
    "\n",
    "Kallipha = {}"
   ]
  },
  {
   "cell_type": "code",
   "execution_count": 24,
   "id": "05bdc40a",
   "metadata": {},
   "outputs": [],
   "source": [
    "Kallipha['categoria'] = 'elfo'\n",
    "Kallipha['força'] = 75\n",
    "Kallipha['experiencia'] = 73\n",
    "Kallipha['vida'] = 124\n",
    "Kallipha['cura'] = 100"
   ]
  },
  {
   "cell_type": "code",
   "execution_count": 11,
   "id": "3b5f90b6",
   "metadata": {},
   "outputs": [
    {
     "name": "stdout",
     "output_type": "stream",
     "text": [
      "Grunt {'categoria': 'guerreiro', 'força': 110, 'experiencia': 50, 'vida': 100, 'cura': 70}\n",
      "Shallur {'categoria': 'mago', 'força': 50, 'experiencia': 120, 'vida': 60, 'cura': 100}\n",
      "Eldor {'categoria': 'elfo', 'força': 70, 'experiencia': 80, 'vida': 120, 'cura': 110}\n",
      "Kallipha {'categoria': 'elfo', 'força': 75, 'experiencia': 73, 'vida': 124, 'cura': 100}\n"
     ]
    }
   ],
   "source": [
    "print('Grunt', Grunt)\n",
    "print('Shallur',Shallur)\n",
    "print('Eldor', Eldor)\n",
    "print('Kallipha',Kallipha)"
   ]
  },
  {
   "cell_type": "code",
   "execution_count": 12,
   "id": "95497828",
   "metadata": {},
   "outputs": [],
   "source": [
    "#Dicionarios Aninhados\n",
    "\n",
    "#Adicionando um elemento lista ao dicionário\n",
    "\n",
    "Grunt['armas'] = ['escudo','espada']"
   ]
  },
  {
   "cell_type": "code",
   "execution_count": 13,
   "id": "2af73adc",
   "metadata": {},
   "outputs": [
    {
     "name": "stdout",
     "output_type": "stream",
     "text": [
      "{'categoria': 'guerreiro', 'força': 110, 'experiencia': 50, 'vida': 100, 'cura': 70, 'armas': ['escudo', 'espada']}\n"
     ]
    }
   ],
   "source": [
    "print(Grunt)"
   ]
  },
  {
   "cell_type": "code",
   "execution_count": 14,
   "id": "8b0e00a8",
   "metadata": {},
   "outputs": [
    {
     "name": "stdout",
     "output_type": "stream",
     "text": [
      "escudo\n"
     ]
    }
   ],
   "source": [
    "print(Grunt['armas'][0])"
   ]
  },
  {
   "cell_type": "code",
   "execution_count": 15,
   "id": "6655c258",
   "metadata": {},
   "outputs": [],
   "source": [
    "# Adicionando um elemento na Lista do dicionario\n",
    "\n",
    "Grunt['armas'].append('elmo')"
   ]
  },
  {
   "cell_type": "code",
   "execution_count": 16,
   "id": "ce6457c2",
   "metadata": {},
   "outputs": [
    {
     "name": "stdout",
     "output_type": "stream",
     "text": [
      "{'categoria': 'guerreiro', 'força': 110, 'experiencia': 50, 'vida': 100, 'cura': 70, 'armas': ['escudo', 'espada', 'elmo']}\n"
     ]
    }
   ],
   "source": [
    "print(Grunt)"
   ]
  },
  {
   "cell_type": "code",
   "execution_count": 17,
   "id": "85b75052",
   "metadata": {},
   "outputs": [
    {
     "data": {
      "text/plain": [
       "dict"
      ]
     },
     "execution_count": 17,
     "metadata": {},
     "output_type": "execute_result"
    }
   ],
   "source": [
    "#Verificando o tipo\n",
    "\n",
    "type(Grunt)"
   ]
  },
  {
   "cell_type": "markdown",
   "id": "d899a865",
   "metadata": {},
   "source": [
    "**Métodos**"
   ]
  },
  {
   "cell_type": "code",
   "execution_count": 18,
   "id": "03b0e7e1",
   "metadata": {},
   "outputs": [],
   "source": [
    "# A hierarquia de impressão é: ITEM -> KEY -> VALUES"
   ]
  },
  {
   "cell_type": "code",
   "execution_count": 21,
   "id": "96d9328a",
   "metadata": {},
   "outputs": [
    {
     "name": "stdout",
     "output_type": "stream",
     "text": [
      "[('categoria', 'guerreiro'), ('força', 110), ('experiencia', 50), ('vida', 100), ('cura', 70), ('armas', ['escudo', 'espada', 'elmo'])]\n"
     ]
    }
   ],
   "source": [
    "#Imprime o ITEM, ou seja, o par CHAVE VALOR\n",
    "print(list(Grunt.items()))"
   ]
  },
  {
   "cell_type": "code",
   "execution_count": 25,
   "id": "8e6e281d",
   "metadata": {},
   "outputs": [
    {
     "data": {
      "text/plain": [
       "dict_items([('categoria', 'elfo'), ('força', 75), ('experiencia', 73), ('vida', 124), ('cura', 100)])"
      ]
     },
     "execution_count": 25,
     "metadata": {},
     "output_type": "execute_result"
    }
   ],
   "source": [
    "Kallipha.items()"
   ]
  },
  {
   "cell_type": "code",
   "execution_count": 26,
   "id": "b3fe1193",
   "metadata": {},
   "outputs": [
    {
     "name": "stdout",
     "output_type": "stream",
     "text": [
      "dict_keys(['categoria', 'força', 'experiencia', 'vida', 'cura', 'armas'])\n"
     ]
    }
   ],
   "source": [
    "#Imprime SOMENTE a chave\n",
    "\n",
    "print(Grunt.keys())"
   ]
  },
  {
   "cell_type": "code",
   "execution_count": 27,
   "id": "595cee6d",
   "metadata": {},
   "outputs": [
    {
     "name": "stdout",
     "output_type": "stream",
     "text": [
      "['guerreiro', 110, 50, 100, 70, ['escudo', 'espada', 'elmo']]\n"
     ]
    }
   ],
   "source": [
    "#Imprime somente os valores\n",
    "\n",
    "print(list(Grunt.values()))"
   ]
  },
  {
   "cell_type": "code",
   "execution_count": 28,
   "id": "8f494126",
   "metadata": {},
   "outputs": [
    {
     "name": "stdout",
     "output_type": "stream",
     "text": [
      "Chave: categoria -mapeado para: guerreiro\n",
      "Chave: força -mapeado para: 110\n",
      "Chave: experiencia -mapeado para: 50\n",
      "Chave: vida -mapeado para: 100\n",
      "Chave: cura -mapeado para: 70\n",
      "Chave: armas -mapeado para: ['escudo', 'espada', 'elmo']\n"
     ]
    }
   ],
   "source": [
    "for var in Grunt:\n",
    "    print('Chave:', var,\"-mapeado para:\",Grunt[var])"
   ]
  },
  {
   "cell_type": "code",
   "execution_count": 38,
   "id": "be1e1a74",
   "metadata": {},
   "outputs": [
    {
     "name": "stdout",
     "output_type": "stream",
     "text": [
      "True\n",
      "False\n",
      "312\n"
     ]
    }
   ],
   "source": [
    "#Utilizando o operador IN\n",
    "\n",
    "inventario = {'maca': 430, 'bananas': 312, 'laranjas': 525, 'pera': 217}\n",
    "\n",
    "print('maca' in inventario)\n",
    "print('cereja' in inventario)\n",
    "\n",
    "if 'bananas' in inventario:\n",
    "    print(inventario['bananas'])\n",
    "else:\n",
    "    print('Não temos bananas')"
   ]
  },
  {
   "cell_type": "code",
   "execution_count": 30,
   "id": "718d4572",
   "metadata": {},
   "outputs": [
    {
     "name": "stdout",
     "output_type": "stream",
     "text": [
      "None\n"
     ]
    }
   ],
   "source": [
    "#Metodo Get\n",
    "\n",
    "print(inventario.get(\"apples\"))"
   ]
  },
  {
   "cell_type": "code",
   "execution_count": 31,
   "id": "604ad345",
   "metadata": {},
   "outputs": [
    {
     "name": "stdout",
     "output_type": "stream",
     "text": [
      "None\n"
     ]
    }
   ],
   "source": [
    "print(inventario.get('Melancia'))"
   ]
  },
  {
   "cell_type": "code",
   "execution_count": 32,
   "id": "1472091e",
   "metadata": {},
   "outputs": [
    {
     "name": "stdout",
     "output_type": "stream",
     "text": [
      "Não possuimos melancia\n"
     ]
    }
   ],
   "source": [
    "print(inventario.get('Melancia', 'Não possuimos melancia'))"
   ]
  },
  {
   "cell_type": "code",
   "execution_count": 33,
   "id": "6d398df1",
   "metadata": {},
   "outputs": [],
   "source": [
    "#O Método copy permite copiar todo um dicionario para outra variavel, SEM referenciar o mesmo objeto\n",
    "\n",
    "mercado = inventario"
   ]
  },
  {
   "cell_type": "code",
   "execution_count": 48,
   "id": "448bf1fe",
   "metadata": {},
   "outputs": [],
   "source": [
    "#Estamos alterando apenas INVENTARIO\n",
    "\n",
    "inventario['melancia'] = 10"
   ]
  },
  {
   "cell_type": "code",
   "execution_count": 43,
   "id": "3b9f6853",
   "metadata": {},
   "outputs": [
    {
     "name": "stdout",
     "output_type": "stream",
     "text": [
      "{'maca': 430, 'bananas': 312, 'laranjas': 525, 'pera': 217, 'melancia': 10}\n"
     ]
    }
   ],
   "source": [
    "#Ao imprimir mercado, vemos que a alteração tambem foi feita, pois as variaveis referem-se ao mesmo objeto\n",
    "\n",
    "print(mercado)"
   ]
  },
  {
   "cell_type": "code",
   "execution_count": 50,
   "id": "982ac472",
   "metadata": {},
   "outputs": [],
   "source": [
    "#Utilizando o copy\n",
    "\n",
    "quitanda = inventario.copy()"
   ]
  },
  {
   "cell_type": "code",
   "execution_count": 51,
   "id": "3ab61c81",
   "metadata": {},
   "outputs": [],
   "source": [
    "del inventario['melancia']"
   ]
  },
  {
   "cell_type": "code",
   "execution_count": 52,
   "id": "6f0aff6c",
   "metadata": {},
   "outputs": [
    {
     "name": "stdout",
     "output_type": "stream",
     "text": [
      "{'maca': 430, 'bananas': 312, 'laranjas': 525, 'pera': 217}\n",
      "{'maca': 430, 'bananas': 312, 'laranjas': 525, 'pera': 217, 'melancia': 10}\n"
     ]
    }
   ],
   "source": [
    "print(inventario)\n",
    "print(mercado)"
   ]
  },
  {
   "cell_type": "code",
   "execution_count": 57,
   "id": "e53be0ad",
   "metadata": {},
   "outputs": [],
   "source": [
    "dicionario = {'UM':1,'DOIS':2,'TRES':3,'FOUR':4}"
   ]
  },
  {
   "cell_type": "code",
   "execution_count": 58,
   "id": "1469550c",
   "metadata": {},
   "outputs": [
    {
     "name": "stdout",
     "output_type": "stream",
     "text": [
      "{'UM': 1, 'DOIS': 2, 'TRES': 3, 'FOUR': 4}\n"
     ]
    }
   ],
   "source": [
    "print(dicionario)"
   ]
  },
  {
   "cell_type": "code",
   "execution_count": 59,
   "id": "11573e3c",
   "metadata": {},
   "outputs": [],
   "source": [
    "#Aqui utilizo o POP, que ritira o elemento e retorna ele próprio\n",
    "\n",
    "dicionario['QUATRO'] = dicionario.pop('FOUR')"
   ]
  },
  {
   "cell_type": "code",
   "execution_count": 60,
   "id": "408ac211",
   "metadata": {},
   "outputs": [
    {
     "data": {
      "text/plain": [
       "{'UM': 1, 'DOIS': 2, 'TRES': 3, 'QUATRO': 4}"
      ]
     },
     "execution_count": 60,
     "metadata": {},
     "output_type": "execute_result"
    }
   ],
   "source": [
    "dicionario"
   ]
  },
  {
   "cell_type": "code",
   "execution_count": 61,
   "id": "9a3df500",
   "metadata": {},
   "outputs": [
    {
     "data": {
      "text/plain": [
       "dict"
      ]
     },
     "execution_count": 61,
     "metadata": {},
     "output_type": "execute_result"
    }
   ],
   "source": [
    "type(dicionario)"
   ]
  },
  {
   "cell_type": "code",
   "execution_count": null,
   "id": "5320665e",
   "metadata": {},
   "outputs": [],
   "source": []
  }
 ],
 "metadata": {
  "kernelspec": {
   "display_name": "Python 3 (ipykernel)",
   "language": "python",
   "name": "python3"
  },
  "language_info": {
   "codemirror_mode": {
    "name": "ipython",
    "version": 3
   },
   "file_extension": ".py",
   "mimetype": "text/x-python",
   "name": "python",
   "nbconvert_exporter": "python",
   "pygments_lexer": "ipython3",
   "version": "3.9.13"
  }
 },
 "nbformat": 4,
 "nbformat_minor": 5
}
