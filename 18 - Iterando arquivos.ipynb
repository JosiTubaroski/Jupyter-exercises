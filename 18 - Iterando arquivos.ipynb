{
 "cells": [
  {
   "cell_type": "code",
   "execution_count": 10,
   "id": "f0b20a7f",
   "metadata": {},
   "outputs": [],
   "source": [
    "import os\n",
    "\n",
    "os.chdir('c:\\\\raw_2')"
   ]
  },
  {
   "cell_type": "code",
   "execution_count": 11,
   "id": "77f6f91f",
   "metadata": {},
   "outputs": [],
   "source": [
    "with open('c:\\\\raw_2\\\\teste.txt','w') as arq:\n",
    "    arq.write('Utilizando WITH')"
   ]
  },
  {
   "cell_type": "code",
   "execution_count": 12,
   "id": "a39ebdb8",
   "metadata": {},
   "outputs": [],
   "source": [
    "#Renomeando arquivos e diretorios\n",
    "\n",
    "os.rename('teste.txt', 'teste.csv')"
   ]
  },
  {
   "cell_type": "code",
   "execution_count": 13,
   "id": "5ddfa7ca",
   "metadata": {},
   "outputs": [
    {
     "data": {
      "text/plain": [
       "['teste.csv']"
      ]
     },
     "execution_count": 13,
     "metadata": {},
     "output_type": "execute_result"
    }
   ],
   "source": [
    "os.listdir()"
   ]
  },
  {
   "cell_type": "code",
   "execution_count": 14,
   "id": "2ff657b4",
   "metadata": {},
   "outputs": [],
   "source": [
    "arquivo = 'teste.csv'"
   ]
  },
  {
   "cell_type": "code",
   "execution_count": 15,
   "id": "6f1b6659",
   "metadata": {},
   "outputs": [],
   "source": [
    "nome = os.path.splitext(arquivo)[0]"
   ]
  },
  {
   "cell_type": "code",
   "execution_count": 16,
   "id": "f72313cf",
   "metadata": {},
   "outputs": [],
   "source": [
    "novonome = nome + '.txt'"
   ]
  },
  {
   "cell_type": "code",
   "execution_count": 17,
   "id": "e76e9603",
   "metadata": {},
   "outputs": [],
   "source": [
    "os.rename(arquivo,novonome)"
   ]
  },
  {
   "cell_type": "code",
   "execution_count": 18,
   "id": "7788cc03",
   "metadata": {},
   "outputs": [
    {
     "data": {
      "text/plain": [
       "['teste.txt']"
      ]
     },
     "execution_count": 18,
     "metadata": {},
     "output_type": "execute_result"
    }
   ],
   "source": [
    "os.listdir()"
   ]
  },
  {
   "cell_type": "markdown",
   "id": "ddbd3b14",
   "metadata": {},
   "source": [
    "## E caso eu tenho muitos arquivos?"
   ]
  },
  {
   "cell_type": "code",
   "execution_count": 21,
   "id": "8e17fbec",
   "metadata": {},
   "outputs": [],
   "source": [
    "#O Módulo glob fornece uma função para criar listas de arquivos a partir de buscas em diretórios usando caracteres curinga\n",
    "\n",
    "import glob\n",
    "import os"
   ]
  },
  {
   "cell_type": "code",
   "execution_count": 23,
   "id": "7ffc572f",
   "metadata": {},
   "outputs": [],
   "source": [
    "os.chdir('c:\\\\iteracao')"
   ]
  },
  {
   "cell_type": "code",
   "execution_count": 24,
   "id": "0f4f053d",
   "metadata": {},
   "outputs": [
    {
     "data": {
      "text/plain": [
       "['Arquivo01.docx',\n",
       " 'Arquivo02.xlsx',\n",
       " 'Arquivo03.pptx',\n",
       " 'Arquivo04.rar',\n",
       " 'Avaliacoes.csv',\n",
       " 'Diretoria.csv',\n",
       " 'Faturamento.csv',\n",
       " 'Funcionarios.csv',\n",
       " 'Recursos Humanos.csv',\n",
       " 'Vendedores.csv']"
      ]
     },
     "execution_count": 24,
     "metadata": {},
     "output_type": "execute_result"
    }
   ],
   "source": [
    "os.listdir()"
   ]
  },
  {
   "cell_type": "code",
   "execution_count": 27,
   "id": "7de3d82e",
   "metadata": {},
   "outputs": [],
   "source": [
    "#Utilizando o glob\n",
    "\n",
    "csvlist = glob.glob('*.csv')"
   ]
  },
  {
   "cell_type": "code",
   "execution_count": 28,
   "id": "44f3fa7e",
   "metadata": {},
   "outputs": [
    {
     "name": "stdout",
     "output_type": "stream",
     "text": [
      "['Avaliacoes.csv', 'Diretoria.csv', 'Faturamento.csv', 'Funcionarios.csv', 'Recursos Humanos.csv', 'Vendedores.csv']\n"
     ]
    }
   ],
   "source": [
    "print(csvlist)"
   ]
  },
  {
   "cell_type": "code",
   "execution_count": 29,
   "id": "c5d528ca",
   "metadata": {},
   "outputs": [],
   "source": [
    "#Iterando a lista\n",
    "\n",
    "for arquivo in csvlist:\n",
    "    nome = os.path.splitext(arquivo)[0]\n",
    "    novonome = nome + '.txt'\n",
    "    os.rename(arquivo,novonome)"
   ]
  },
  {
   "cell_type": "code",
   "execution_count": 30,
   "id": "09c11c9e",
   "metadata": {},
   "outputs": [
    {
     "data": {
      "text/plain": [
       "['Arquivo01.docx',\n",
       " 'Arquivo02.xlsx',\n",
       " 'Arquivo03.pptx',\n",
       " 'Arquivo04.rar',\n",
       " 'Avaliacoes.txt',\n",
       " 'Diretoria.txt',\n",
       " 'Faturamento.txt',\n",
       " 'Funcionarios.txt',\n",
       " 'Recursos Humanos.txt',\n",
       " 'Vendedores.txt']"
      ]
     },
     "execution_count": 30,
     "metadata": {},
     "output_type": "execute_result"
    }
   ],
   "source": [
    "os.listdir()"
   ]
  },
  {
   "cell_type": "code",
   "execution_count": null,
   "id": "243b5809",
   "metadata": {},
   "outputs": [],
   "source": []
  }
 ],
 "metadata": {
  "kernelspec": {
   "display_name": "Python 3 (ipykernel)",
   "language": "python",
   "name": "python3"
  },
  "language_info": {
   "codemirror_mode": {
    "name": "ipython",
    "version": 3
   },
   "file_extension": ".py",
   "mimetype": "text/x-python",
   "name": "python",
   "nbconvert_exporter": "python",
   "pygments_lexer": "ipython3",
   "version": "3.9.13"
  }
 },
 "nbformat": 4,
 "nbformat_minor": 5
}
