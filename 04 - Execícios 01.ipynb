{
 "cells": [
  {
   "cell_type": "code",
   "execution_count": null,
   "id": "ee754da6",
   "metadata": {},
   "outputs": [],
   "source": [
    "Exercicio\n",
    "\n",
    "Na expressão abaixo:\n",
    "    \n",
    "Dados de acesso do cliente Universidade dos Dados\n",
    "01/02/2017 \"3.878.00\"\n",
    "02/02/2017 \"6.088.00\"\n",
    "03/02/2017 \"645.00\"\n",
    "04/02/2017 \"10.876.00\"\n",
    "\n",
    "Necessitamos do primeiro valor de acessos 3.878\n",
    "armazene o valor em uma variável e imprima."
   ]
  },
  {
   "cell_type": "code",
   "execution_count": 9,
   "id": "8522172c",
   "metadata": {},
   "outputs": [
    {
     "name": "stdout",
     "output_type": "stream",
     "text": [
      "'Dados de acesso do cliente Universidade dos Dados\n",
      "01/02/2017 \"5.878.00\"\n",
      "02/02/2017 \"6.088.00\"\n",
      "03/02/2017 \"645.00\"\n",
      "04/02/2017 \"10.876.00\"\n"
     ]
    }
   ],
   "source": [
    "expr = ''''Dados de acesso do cliente Universidade dos Dados\n",
    "01/02/2017 \"5.878.00\"\n",
    "02/02/2017 \"6.088.00\"\n",
    "03/02/2017 \"645.00\"\n",
    "04/02/2017 \"10.876.00\"'''\n",
    "\n",
    "print(expr)"
   ]
  },
  {
   "cell_type": "code",
   "execution_count": 6,
   "id": "9b2b1e41",
   "metadata": {},
   "outputs": [
    {
     "name": "stdout",
     "output_type": "stream",
     "text": [
      "63\n"
     ]
    }
   ],
   "source": [
    "#Utilizando o indexador capturar o primeiro numero\n",
    "#Procuramos o inicio do valor e somamos mais 1 para obter o numero sem as aspas\n",
    "\n",
    "inicio = expr.find('\"') + 1\n",
    "print(inicio)"
   ]
  },
  {
   "cell_type": "code",
   "execution_count": 7,
   "id": "8a165174",
   "metadata": {},
   "outputs": [
    {
     "name": "stdout",
     "output_type": "stream",
     "text": [
      "68\n"
     ]
    }
   ],
   "source": [
    "fim = expr.find('.00\"',62)\n",
    "print (fim)"
   ]
  },
  {
   "cell_type": "code",
   "execution_count": 10,
   "id": "2c6ae28b",
   "metadata": {},
   "outputs": [
    {
     "data": {
      "text/plain": [
       "'5.878'"
      ]
     },
     "execution_count": 10,
     "metadata": {},
     "output_type": "execute_result"
    }
   ],
   "source": [
    "expr[inicio:fim]"
   ]
  },
  {
   "cell_type": "code",
   "execution_count": null,
   "id": "fa6d575f",
   "metadata": {},
   "outputs": [],
   "source": []
  }
 ],
 "metadata": {
  "kernelspec": {
   "display_name": "Python 3 (ipykernel)",
   "language": "python",
   "name": "python3"
  },
  "language_info": {
   "codemirror_mode": {
    "name": "ipython",
    "version": 3
   },
   "file_extension": ".py",
   "mimetype": "text/x-python",
   "name": "python",
   "nbconvert_exporter": "python",
   "pygments_lexer": "ipython3",
   "version": "3.9.13"
  }
 },
 "nbformat": 4,
 "nbformat_minor": 5
}
