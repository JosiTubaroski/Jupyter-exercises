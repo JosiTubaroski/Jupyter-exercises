{
 "cells": [
  {
   "cell_type": "code",
   "execution_count": 1,
   "id": "77d8444d",
   "metadata": {},
   "outputs": [],
   "source": [
    "#Criação de Lista\n",
    "linguagens = [\"Python\", \"R\", \"Julia\", \"PHP\"]"
   ]
  },
  {
   "cell_type": "code",
   "execution_count": 2,
   "id": "81c2a39d",
   "metadata": {},
   "outputs": [
    {
     "name": "stdout",
     "output_type": "stream",
     "text": [
      "['Python', 'R', 'Julia', 'PHP']\n"
     ]
    }
   ],
   "source": [
    "print(linguagens)"
   ]
  },
  {
   "cell_type": "code",
   "execution_count": 3,
   "id": "d4f0e8cb",
   "metadata": {},
   "outputs": [],
   "source": [
    "#Lista heterogenea\n",
    "mundiais = [\"Brasil\", 58, 62, 70, 94, 2002]"
   ]
  },
  {
   "cell_type": "code",
   "execution_count": 5,
   "id": "b0357e48",
   "metadata": {},
   "outputs": [
    {
     "name": "stdout",
     "output_type": "stream",
     "text": [
      "['Brasil', 58, 62, 70, 94, 2002]\n"
     ]
    }
   ],
   "source": [
    "print(mundiais)"
   ]
  },
  {
   "cell_type": "code",
   "execution_count": 6,
   "id": "2c57fb78",
   "metadata": {},
   "outputs": [],
   "source": [
    "# Assim como em strings, podemos também indexar Listas.\n",
    "pais = mundiais[0]\n",
    "tituilo01 = mundiais[1]\n",
    "tituilo02 = mundiais[2]\n",
    "tituilo03 = mundiais[3]\n",
    "tituilo04 = mundiais[4]\n",
    "tituilo05 = mundiais[5]"
   ]
  },
  {
   "cell_type": "code",
   "execution_count": 7,
   "id": "52fb0119",
   "metadata": {},
   "outputs": [
    {
     "name": "stdout",
     "output_type": "stream",
     "text": [
      "Brasil\n",
      "58\n",
      "62\n",
      "70\n",
      "94\n",
      "2002\n"
     ]
    }
   ],
   "source": [
    "print(pais)\n",
    "print(tituilo01)\n",
    "print(tituilo02)\n",
    "print(tituilo03)\n",
    "print(tituilo04)\n",
    "print(tituilo05)"
   ]
  },
  {
   "cell_type": "markdown",
   "id": "a616f527",
   "metadata": {},
   "source": [
    "**Atualização de Lista**"
   ]
  },
  {
   "cell_type": "code",
   "execution_count": 9,
   "id": "c37dde62",
   "metadata": {},
   "outputs": [],
   "source": [
    "#Listas são mutáveis\n",
    "\n",
    "mundiais[0] = \"Alemanha\""
   ]
  },
  {
   "cell_type": "code",
   "execution_count": 11,
   "id": "ab107f44",
   "metadata": {},
   "outputs": [
    {
     "data": {
      "text/plain": [
       "'Alemanha'"
      ]
     },
     "execution_count": 11,
     "metadata": {},
     "output_type": "execute_result"
    }
   ],
   "source": [
    "mundiais[0]"
   ]
  },
  {
   "cell_type": "code",
   "execution_count": 12,
   "id": "57669b70",
   "metadata": {},
   "outputs": [
    {
     "data": {
      "text/plain": [
       "['Alemanha', 58, 62, 70, 94, 2002]"
      ]
     },
     "execution_count": 12,
     "metadata": {},
     "output_type": "execute_result"
    }
   ],
   "source": [
    "mundiais"
   ]
  },
  {
   "cell_type": "markdown",
   "id": "2db6b57a",
   "metadata": {},
   "source": [
    "**Operações com Listas**"
   ]
  },
  {
   "cell_type": "code",
   "execution_count": null,
   "id": "34006861",
   "metadata": {},
   "outputs": [],
   "source": [
    "#Delete - Podemos deletar um elemento separado ou um range através do Indice"
   ]
  },
  {
   "cell_type": "code",
   "execution_count": 15,
   "id": "cf848876",
   "metadata": {},
   "outputs": [],
   "source": [
    "del mundiais[1:]"
   ]
  },
  {
   "cell_type": "code",
   "execution_count": 16,
   "id": "d7db9b41",
   "metadata": {},
   "outputs": [
    {
     "name": "stdout",
     "output_type": "stream",
     "text": [
      "['Alemanha']\n"
     ]
    }
   ],
   "source": [
    "print(mundiais)"
   ]
  },
  {
   "cell_type": "code",
   "execution_count": 17,
   "id": "0e4b3704",
   "metadata": {},
   "outputs": [],
   "source": [
    "#Adicionando elemento\n",
    "mundiais.append(2014)"
   ]
  },
  {
   "cell_type": "code",
   "execution_count": 18,
   "id": "f55ab406",
   "metadata": {},
   "outputs": [
    {
     "name": "stdout",
     "output_type": "stream",
     "text": [
      "['Alemanha', 2014]\n"
     ]
    }
   ],
   "source": [
    "print(mundiais)"
   ]
  },
  {
   "cell_type": "code",
   "execution_count": 21,
   "id": "77b372ff",
   "metadata": {},
   "outputs": [],
   "source": [
    "#Adicionando mais de um elemento\n",
    "mundiais.extend([1954, 1974, 1990])"
   ]
  },
  {
   "cell_type": "code",
   "execution_count": 22,
   "id": "5248ab81",
   "metadata": {},
   "outputs": [
    {
     "name": "stdout",
     "output_type": "stream",
     "text": [
      "['Alemanha', 2014, 1954, 1974, 1990]\n"
     ]
    }
   ],
   "source": [
    "print(mundiais)"
   ]
  },
  {
   "cell_type": "code",
   "execution_count": 23,
   "id": "897ffbed",
   "metadata": {},
   "outputs": [],
   "source": [
    "#Podemos remover um elemento especifico com a função REMOVE\n",
    "\n",
    "mundiais.remove(1990)"
   ]
  },
  {
   "cell_type": "code",
   "execution_count": 24,
   "id": "ebc52723",
   "metadata": {},
   "outputs": [
    {
     "name": "stdout",
     "output_type": "stream",
     "text": [
      "['Alemanha', 2014, 1954, 1974]\n"
     ]
    }
   ],
   "source": [
    "print(mundiais)"
   ]
  },
  {
   "cell_type": "markdown",
   "id": "f4eb1ece",
   "metadata": {},
   "source": [
    "**Listas Aninhadas**"
   ]
  },
  {
   "cell_type": "code",
   "execution_count": 25,
   "id": "59c061ea",
   "metadata": {},
   "outputs": [],
   "source": [
    "mundiais = [[\"Brasil\", 58, 62, 70, 94, 2002],[\"Alemanha\", 1954, 1974, 1990, 2014]]"
   ]
  },
  {
   "cell_type": "code",
   "execution_count": 26,
   "id": "9b9df987",
   "metadata": {},
   "outputs": [
    {
     "name": "stdout",
     "output_type": "stream",
     "text": [
      "[['Brasil', 58, 62, 70, 94, 2002], ['Alemanha', 1954, 1974, 1990, 2014]]\n"
     ]
    }
   ],
   "source": [
    "print(mundiais)"
   ]
  },
  {
   "cell_type": "code",
   "execution_count": 27,
   "id": "c5b1759a",
   "metadata": {},
   "outputs": [
    {
     "name": "stdout",
     "output_type": "stream",
     "text": [
      "['Brasil', 58, 62, 70, 94, 2002]\n"
     ]
    }
   ],
   "source": [
    "print(mundiais[0])"
   ]
  },
  {
   "cell_type": "code",
   "execution_count": 28,
   "id": "2d90e62f",
   "metadata": {},
   "outputs": [
    {
     "name": "stdout",
     "output_type": "stream",
     "text": [
      "62\n"
     ]
    }
   ],
   "source": [
    "#Acessando a lista e trazendo o segundo titulo do brasil\n",
    "print(mundiais[0][2])"
   ]
  },
  {
   "cell_type": "markdown",
   "id": "e19e55c5",
   "metadata": {},
   "source": [
    "**Concatenando Listas**"
   ]
  },
  {
   "cell_type": "code",
   "execution_count": 29,
   "id": "d92a2e44",
   "metadata": {},
   "outputs": [],
   "source": [
    "a = [\"Argentina\", 1986, 1978]"
   ]
  },
  {
   "cell_type": "code",
   "execution_count": 30,
   "id": "700d35a3",
   "metadata": {},
   "outputs": [],
   "source": [
    "b = [\"Alemanha\", 1954, 1974, 1990, 2014]"
   ]
  },
  {
   "cell_type": "code",
   "execution_count": 31,
   "id": "2fda4900",
   "metadata": {},
   "outputs": [],
   "source": [
    "c = [\"Brasil\", 58, 62, 70, 94, 2002]"
   ]
  },
  {
   "cell_type": "code",
   "execution_count": 32,
   "id": "f1e39424",
   "metadata": {},
   "outputs": [],
   "source": [
    "#Concatenando\n",
    "\n",
    "fifa = a + b + c"
   ]
  },
  {
   "cell_type": "code",
   "execution_count": 33,
   "id": "59ab50b1",
   "metadata": {},
   "outputs": [
    {
     "data": {
      "text/plain": [
       "['Argentina',\n",
       " 1986,\n",
       " 1978,\n",
       " 'Alemanha',\n",
       " 1954,\n",
       " 1974,\n",
       " 1990,\n",
       " 2014,\n",
       " 'Brasil',\n",
       " 58,\n",
       " 62,\n",
       " 70,\n",
       " 94,\n",
       " 2002]"
      ]
     },
     "execution_count": 33,
     "metadata": {},
     "output_type": "execute_result"
    }
   ],
   "source": [
    "fifa"
   ]
  },
  {
   "cell_type": "code",
   "execution_count": 34,
   "id": "35cff8eb",
   "metadata": {},
   "outputs": [
    {
     "data": {
      "text/plain": [
       "62"
      ]
     },
     "execution_count": 34,
     "metadata": {},
     "output_type": "execute_result"
    }
   ],
   "source": [
    "fifa[10]"
   ]
  },
  {
   "cell_type": "markdown",
   "id": "bf57cdb3",
   "metadata": {},
   "source": [
    "**Operador In**"
   ]
  },
  {
   "cell_type": "code",
   "execution_count": 35,
   "id": "47ceeab7",
   "metadata": {},
   "outputs": [
    {
     "name": "stdout",
     "output_type": "stream",
     "text": [
      "False\n"
     ]
    }
   ],
   "source": [
    "#Verificando se um elemento está na lista\n",
    "\n",
    "print('Uruguai' in fifa)"
   ]
  },
  {
   "cell_type": "code",
   "execution_count": 36,
   "id": "1d70ecdf",
   "metadata": {},
   "outputs": [
    {
     "name": "stdout",
     "output_type": "stream",
     "text": [
      "True\n"
     ]
    }
   ],
   "source": [
    "print('Brasil' in fifa)"
   ]
  },
  {
   "cell_type": "code",
   "execution_count": 38,
   "id": "28a726fd",
   "metadata": {},
   "outputs": [
    {
     "name": "stdout",
     "output_type": "stream",
     "text": [
      "Indice da equipe: 8\n",
      "Brasil\n",
      "[58, 62, 70, 94, 2002]\n"
     ]
    }
   ],
   "source": [
    "#Imprimindo os titulos de uma equipe\n",
    "\n",
    "equipe = 'Brasil'\n",
    "\n",
    "if equipe in fifa:\n",
    "    a = fifa.index(equipe)\n",
    "    print('Indice da equipe:', a)\n",
    "    print(equipe)\n",
    "    print(fifa[a + 1 :])\n",
    "else:\n",
    "    print(equipe + 'não possui titulos ou não está na lista')"
   ]
  },
  {
   "cell_type": "markdown",
   "id": "ef442844",
   "metadata": {},
   "source": [
    "**Funções Built-In**"
   ]
  },
  {
   "cell_type": "code",
   "execution_count": 39,
   "id": "b0aac2a9",
   "metadata": {},
   "outputs": [
    {
     "data": {
      "text/plain": [
       "14"
      ]
     },
     "execution_count": 39,
     "metadata": {},
     "output_type": "execute_result"
    }
   ],
   "source": [
    "#Retorna o tamanho da lista\n",
    "len(fifa)"
   ]
  },
  {
   "cell_type": "code",
   "execution_count": 40,
   "id": "a80ef6f5",
   "metadata": {},
   "outputs": [
    {
     "ename": "TypeError",
     "evalue": "'>' not supported between instances of 'int' and 'str'",
     "output_type": "error",
     "traceback": [
      "\u001b[1;31m---------------------------------------------------------------------------\u001b[0m",
      "\u001b[1;31mTypeError\u001b[0m                                 Traceback (most recent call last)",
      "\u001b[1;32m~\\AppData\\Local\\Temp\\ipykernel_11268\\2459621421.py\u001b[0m in \u001b[0;36m<module>\u001b[1;34m\u001b[0m\n\u001b[0;32m      1\u001b[0m \u001b[1;31m#Vamos maximo da lista -Não funciona com Listas heterogeneas\u001b[0m\u001b[1;33m\u001b[0m\u001b[1;33m\u001b[0m\u001b[0m\n\u001b[1;32m----> 2\u001b[1;33m \u001b[0mmax\u001b[0m\u001b[1;33m(\u001b[0m\u001b[0mfifa\u001b[0m\u001b[1;33m)\u001b[0m\u001b[1;33m\u001b[0m\u001b[1;33m\u001b[0m\u001b[0m\n\u001b[0m",
      "\u001b[1;31mTypeError\u001b[0m: '>' not supported between instances of 'int' and 'str'"
     ]
    }
   ],
   "source": [
    "#Vamos maximo da lista -Não funciona com Listas heterogeneas\n",
    "max(fifa)"
   ]
  },
  {
   "cell_type": "code",
   "execution_count": 41,
   "id": "053eccb0",
   "metadata": {},
   "outputs": [],
   "source": [
    "numeros = [34,65,32,23,54,98,12]\n",
    "palavras = ['Macaco', 'Zebra', 'Cachorro', 'Gato'] #Alfabetica"
   ]
  },
  {
   "cell_type": "code",
   "execution_count": 42,
   "id": "39c9b985",
   "metadata": {},
   "outputs": [
    {
     "name": "stdout",
     "output_type": "stream",
     "text": [
      "Zebra\n",
      "98\n"
     ]
    }
   ],
   "source": [
    "print(max(palavras))\n",
    "print(max(numeros))"
   ]
  },
  {
   "cell_type": "code",
   "execution_count": 43,
   "id": "527bf343",
   "metadata": {},
   "outputs": [
    {
     "name": "stdout",
     "output_type": "stream",
     "text": [
      "Cachorro\n",
      "12\n"
     ]
    }
   ],
   "source": [
    "#Valor Minimo da Lista\n",
    "print(min(palavras))\n",
    "print(min(numeros))"
   ]
  },
  {
   "cell_type": "code",
   "execution_count": 62,
   "id": "8bb64210",
   "metadata": {},
   "outputs": [
    {
     "data": {
      "text/plain": [
       "[7, 6, 5, 4, 8, 2, 10]"
      ]
     },
     "execution_count": 62,
     "metadata": {},
     "output_type": "execute_result"
    }
   ],
   "source": [
    "#Reverte a lista POSICIONALMENTE\n",
    "numeros = [10,2,8,4,5,6,7]\n",
    "numeros.reverse()\n",
    "numeros"
   ]
  },
  {
   "cell_type": "code",
   "execution_count": 63,
   "id": "033de947",
   "metadata": {},
   "outputs": [
    {
     "data": {
      "text/plain": [
       "[2, 4, 5, 6, 7, 8, 10]"
      ]
     },
     "execution_count": 63,
     "metadata": {},
     "output_type": "execute_result"
    }
   ],
   "source": [
    "#Ordena a Lista em ORDEM CRESCENTE\n",
    "numeros.sort()\n",
    "numeros"
   ]
  },
  {
   "cell_type": "code",
   "execution_count": 67,
   "id": "a82f1526",
   "metadata": {},
   "outputs": [
    {
     "name": "stdout",
     "output_type": "stream",
     "text": [
      "['Macaco', 'Zebra', 'Cachorro', 'Gato', 'Macaco', 'Macaco', 'Macaco', 'Macaco']\n"
     ]
    }
   ],
   "source": [
    "#Adicionando um valor repetido\n",
    "\n",
    "palavras.append('Macaco')\n",
    "\n",
    "#Contando o numero de ocorrencias\n",
    "\n",
    "palavras.count(\"Macaco\")\n",
    "\n",
    "print(palavras)"
   ]
  },
  {
   "cell_type": "code",
   "execution_count": 68,
   "id": "cc481322",
   "metadata": {},
   "outputs": [],
   "source": [
    "#Criando uma lista vazia\n",
    "a = []"
   ]
  },
  {
   "cell_type": "code",
   "execution_count": 69,
   "id": "0697756a",
   "metadata": {},
   "outputs": [
    {
     "name": "stdout",
     "output_type": "stream",
     "text": [
      "[]\n"
     ]
    }
   ],
   "source": [
    "print(a)"
   ]
  },
  {
   "cell_type": "code",
   "execution_count": 70,
   "id": "5359b9f2",
   "metadata": {},
   "outputs": [
    {
     "data": {
      "text/plain": [
       "list"
      ]
     },
     "execution_count": 70,
     "metadata": {},
     "output_type": "execute_result"
    }
   ],
   "source": [
    "type(a)"
   ]
  },
  {
   "cell_type": "code",
   "execution_count": 71,
   "id": "f1b52733",
   "metadata": {},
   "outputs": [],
   "source": [
    "#POP - Retira o ultimo objeto da Lista, mas tem como retornar o próprio objeto. É POSICIONAL"
   ]
  },
  {
   "cell_type": "code",
   "execution_count": 72,
   "id": "b7e19590",
   "metadata": {},
   "outputs": [
    {
     "name": "stdout",
     "output_type": "stream",
     "text": [
      "['B', 'C', 'D', 'E', 'A']\n"
     ]
    }
   ],
   "source": [
    "lista = ['B', 'C', 'D', 'E', 'A']\n",
    "\n",
    "print(lista)"
   ]
  },
  {
   "cell_type": "code",
   "execution_count": 73,
   "id": "2cbceb98",
   "metadata": {},
   "outputs": [
    {
     "name": "stdout",
     "output_type": "stream",
     "text": [
      "A\n"
     ]
    }
   ],
   "source": [
    "print(lista.pop())"
   ]
  },
  {
   "cell_type": "code",
   "execution_count": 74,
   "id": "13f15bb2",
   "metadata": {},
   "outputs": [
    {
     "name": "stdout",
     "output_type": "stream",
     "text": [
      "['Estatistica', 'SQL', 'ETL', 'Big Data', 'Machine Learning']\n"
     ]
    }
   ],
   "source": [
    "lista = ['Estatistica', 'SQL', 'ETL', 'Big Data', 'Machine Learning']\n",
    "\n",
    "print(lista)"
   ]
  },
  {
   "cell_type": "code",
   "execution_count": 75,
   "id": "c5ead631",
   "metadata": {},
   "outputs": [
    {
     "name": "stdout",
     "output_type": "stream",
     "text": [
      "Machine Learning\n"
     ]
    }
   ],
   "source": [
    "print(lista.pop())"
   ]
  },
  {
   "cell_type": "code",
   "execution_count": 76,
   "id": "07c33cba",
   "metadata": {},
   "outputs": [
    {
     "name": "stdout",
     "output_type": "stream",
     "text": [
      "['Estatistica', 'SQL', 'ETL', 'Big Data']\n"
     ]
    }
   ],
   "source": [
    "print(lista)"
   ]
  },
  {
   "cell_type": "code",
   "execution_count": 77,
   "id": "8afcb79e",
   "metadata": {},
   "outputs": [
    {
     "name": "stdout",
     "output_type": "stream",
     "text": [
      "Retirando o objeto  SQL\n"
     ]
    }
   ],
   "source": [
    "#Podemos também INDEXAR o objeto, iniciando de 0\n",
    "\n",
    "print(\"Retirando o objeto \", lista.pop(1))"
   ]
  },
  {
   "cell_type": "code",
   "execution_count": 78,
   "id": "49579cae",
   "metadata": {},
   "outputs": [
    {
     "name": "stdout",
     "output_type": "stream",
     "text": [
      "['Estatistica', 'ETL', 'Big Data']\n"
     ]
    }
   ],
   "source": [
    "print(lista)"
   ]
  },
  {
   "cell_type": "code",
   "execution_count": 79,
   "id": "d526c60f",
   "metadata": {},
   "outputs": [
    {
     "name": "stdout",
     "output_type": "stream",
     "text": [
      "Quero retirar o objeto ETL. Retirado:  ETL\n"
     ]
    }
   ],
   "source": [
    "print(\"Quero retirar o objeto ETL. Retirado: \", lista.pop(1))"
   ]
  },
  {
   "cell_type": "markdown",
   "id": "ee5ddd7a",
   "metadata": {},
   "source": [
    "**Os sets são conjuntos únicos. Semelhante a um SELECT DISTINCT, e são muito utilizados em análise de Dados**"
   ]
  },
  {
   "cell_type": "code",
   "execution_count": 80,
   "id": "3783e6a8",
   "metadata": {},
   "outputs": [],
   "source": [
    "conjunto = set()"
   ]
  },
  {
   "cell_type": "code",
   "execution_count": 81,
   "id": "50d63331",
   "metadata": {},
   "outputs": [],
   "source": [
    "conjunto.add('Java')\n",
    "conjunto.add('R')\n",
    "conjunto.add('Python')"
   ]
  },
  {
   "cell_type": "code",
   "execution_count": 82,
   "id": "5339f384",
   "metadata": {},
   "outputs": [
    {
     "name": "stdout",
     "output_type": "stream",
     "text": [
      "{'Java', 'R', 'Python'}\n"
     ]
    }
   ],
   "source": [
    "print(conjunto)"
   ]
  },
  {
   "cell_type": "code",
   "execution_count": 83,
   "id": "513c4072",
   "metadata": {},
   "outputs": [],
   "source": [
    "#Tentando adicionar um elemento repetido\n",
    "conjunto.add('Java')"
   ]
  },
  {
   "cell_type": "code",
   "execution_count": 84,
   "id": "96ebcdc5",
   "metadata": {},
   "outputs": [
    {
     "name": "stdout",
     "output_type": "stream",
     "text": [
      "{'Java', 'R', 'Python'}\n"
     ]
    }
   ],
   "source": [
    "#Imprimindo novamente\n",
    "\n",
    "print(conjunto)"
   ]
  },
  {
   "cell_type": "code",
   "execution_count": 85,
   "id": "af2e4b4b",
   "metadata": {},
   "outputs": [
    {
     "ename": "TypeError",
     "evalue": "'set' object is not subscriptable",
     "output_type": "error",
     "traceback": [
      "\u001b[1;31m---------------------------------------------------------------------------\u001b[0m",
      "\u001b[1;31mTypeError\u001b[0m                                 Traceback (most recent call last)",
      "\u001b[1;32m~\\AppData\\Local\\Temp\\ipykernel_11268\\2436178302.py\u001b[0m in \u001b[0;36m<module>\u001b[1;34m\u001b[0m\n\u001b[0;32m      1\u001b[0m \u001b[1;31m#Sets nao suportam indexacao\u001b[0m\u001b[1;33m\u001b[0m\u001b[1;33m\u001b[0m\u001b[0m\n\u001b[1;32m----> 2\u001b[1;33m \u001b[0mconjunto\u001b[0m\u001b[1;33m[\u001b[0m\u001b[1;36m1\u001b[0m\u001b[1;33m]\u001b[0m\u001b[1;33m\u001b[0m\u001b[1;33m\u001b[0m\u001b[0m\n\u001b[0m",
      "\u001b[1;31mTypeError\u001b[0m: 'set' object is not subscriptable"
     ]
    }
   ],
   "source": [
    "#Sets nao suportam indexacao\n",
    "conjunto[1]"
   ]
  },
  {
   "cell_type": "code",
   "execution_count": 86,
   "id": "dd7ee686",
   "metadata": {},
   "outputs": [],
   "source": [
    "engenheiros = set(['João', 'Jane', 'Clara', 'Celia'])\n",
    "programadores = set(['Clara', 'Sam', 'Susan', 'Celia'])\n",
    "gerentes = set(['Jane', 'Clara', 'Susan', 'Zack'])"
   ]
  },
  {
   "cell_type": "code",
   "execution_count": 87,
   "id": "fa629bd6",
   "metadata": {},
   "outputs": [
    {
     "data": {
      "text/plain": [
       "{'Celia', 'Clara', 'Jane', 'João'}"
      ]
     },
     "execution_count": 87,
     "metadata": {},
     "output_type": "execute_result"
    }
   ],
   "source": [
    "engenheiros"
   ]
  },
  {
   "cell_type": "code",
   "execution_count": 88,
   "id": "338a4566",
   "metadata": {},
   "outputs": [
    {
     "data": {
      "text/plain": [
       "{'Celia', 'Clara', 'Jane', 'João', 'Sam', 'Susan', 'Zack'}"
      ]
     },
     "execution_count": 88,
     "metadata": {},
     "output_type": "execute_result"
    }
   ],
   "source": [
    "#Uniao\n",
    "\n",
    "funcionarios = engenheiros | programadores | gerentes\n",
    "\n",
    "funcionarios"
   ]
  },
  {
   "cell_type": "code",
   "execution_count": 89,
   "id": "2af7d0cd",
   "metadata": {},
   "outputs": [
    {
     "data": {
      "text/plain": [
       "{'Clara', 'Jane'}"
      ]
     },
     "execution_count": 89,
     "metadata": {},
     "output_type": "execute_result"
    }
   ],
   "source": [
    "#Interseção\n",
    "\n",
    "gerencia_de_engenharia = engenheiros & gerentes\n",
    "\n",
    "gerencia_de_engenharia"
   ]
  },
  {
   "cell_type": "code",
   "execution_count": 90,
   "id": "20598d06",
   "metadata": {},
   "outputs": [
    {
     "data": {
      "text/plain": [
       "{'Susan', 'Zack'}"
      ]
     },
     "execution_count": 90,
     "metadata": {},
     "output_type": "execute_result"
    }
   ],
   "source": [
    "#Diferença\n",
    "\n",
    "gerentes = set(['Jane', 'Clara', 'Susan', 'Zack'])\n",
    "engenheiros = set(['joao', 'Jane', 'Clara', 'Celia'])\n",
    "\n",
    "a = gerentes - engenheiros\n",
    "\n",
    "a"
   ]
  },
  {
   "cell_type": "code",
   "execution_count": 91,
   "id": "505aec92",
   "metadata": {},
   "outputs": [
    {
     "data": {
      "text/plain": [
       "{'Jane', 'Zack'}"
      ]
     },
     "execution_count": 91,
     "metadata": {},
     "output_type": "execute_result"
    }
   ],
   "source": [
    "gerentes = set(['Jane', 'Clara', 'Susan', 'Zack'])\n",
    "programadores = set(['Clara', 'Sam', 'Susan', 'Celia'])\n",
    "\n",
    "b = gerentes - programadores\n",
    "\n",
    "b"
   ]
  },
  {
   "cell_type": "code",
   "execution_count": null,
   "id": "e348a20f",
   "metadata": {},
   "outputs": [],
   "source": []
  }
 ],
 "metadata": {
  "kernelspec": {
   "display_name": "Python 3 (ipykernel)",
   "language": "python",
   "name": "python3"
  },
  "language_info": {
   "codemirror_mode": {
    "name": "ipython",
    "version": 3
   },
   "file_extension": ".py",
   "mimetype": "text/x-python",
   "name": "python",
   "nbconvert_exporter": "python",
   "pygments_lexer": "ipython3",
   "version": "3.9.13"
  }
 },
 "nbformat": 4,
 "nbformat_minor": 5
}
