{
 "cells": [
  {
   "cell_type": "code",
   "execution_count": 3,
   "id": "88231b23",
   "metadata": {},
   "outputs": [],
   "source": [
    "import numpy as np"
   ]
  },
  {
   "cell_type": "markdown",
   "id": "524b4605",
   "metadata": {},
   "source": [
    "# Operações com Arrays Multidimensionais"
   ]
  },
  {
   "cell_type": "markdown",
   "id": "e00f689d",
   "metadata": {},
   "source": [
    "### Lembre-se - A notação é sempre LINHA - COLUNA"
   ]
  },
  {
   "cell_type": "code",
   "execution_count": 4,
   "id": "2bc4e3d7",
   "metadata": {},
   "outputs": [
    {
     "name": "stdout",
     "output_type": "stream",
     "text": [
      "[[ 1  2  3  4]\n",
      " [ 5  6  7  8]\n",
      " [10 20 30 40]\n",
      " [50 60 70 80]]\n"
     ]
    }
   ],
   "source": [
    "A = [[1,2,3,4],[5,6,7,8],[10,20,30,40],[50,60,70,80]]\n",
    "\n",
    "array = np.array(A)\n",
    "\n",
    "print(array)"
   ]
  },
  {
   "cell_type": "code",
   "execution_count": 5,
   "id": "0d704390",
   "metadata": {},
   "outputs": [
    {
     "name": "stdout",
     "output_type": "stream",
     "text": [
      "[1 2 3 4]\n"
     ]
    }
   ],
   "source": [
    "#Primeira Linha\n",
    "print(array[0])"
   ]
  },
  {
   "cell_type": "code",
   "execution_count": 6,
   "id": "0da95b29",
   "metadata": {},
   "outputs": [
    {
     "name": "stdout",
     "output_type": "stream",
     "text": [
      "[10 20 30 40]\n"
     ]
    }
   ],
   "source": [
    "#Linha de indice 2\n",
    "print(array[2])"
   ]
  },
  {
   "cell_type": "code",
   "execution_count": 7,
   "id": "f5b30d75",
   "metadata": {},
   "outputs": [
    {
     "name": "stdout",
     "output_type": "stream",
     "text": [
      "4\n"
     ]
    }
   ],
   "source": [
    "#Primeira Linha e última coluna\n",
    "print(array[0,-1])"
   ]
  },
  {
   "cell_type": "code",
   "execution_count": 14,
   "id": "5359a8c5",
   "metadata": {},
   "outputs": [
    {
     "name": "stdout",
     "output_type": "stream",
     "text": [
      "[[ 0  2  3  9]\n",
      " [ 9  6  7  8]\n",
      " [10 20 30 40]\n",
      " [50 60 70 80]]\n"
     ]
    }
   ],
   "source": [
    "#Atribuindo um valor a uma posição da matriz\n",
    "\n",
    "array [0,3] = 9\n",
    "\n",
    "print(array)"
   ]
  },
  {
   "cell_type": "markdown",
   "id": "cb613ffd",
   "metadata": {},
   "source": [
    "### Trabalhando com intervalos"
   ]
  },
  {
   "cell_type": "code",
   "execution_count": 16,
   "id": "8d9159a9",
   "metadata": {},
   "outputs": [
    {
     "name": "stdout",
     "output_type": "stream",
     "text": [
      "[[ 6  7]\n",
      " [20 30]]\n"
     ]
    }
   ],
   "source": [
    "#Pegando os numeros centrais\n",
    "\n",
    "print(array[1:3,1:3])"
   ]
  },
  {
   "cell_type": "code",
   "execution_count": 17,
   "id": "8f31dd38",
   "metadata": {},
   "outputs": [
    {
     "name": "stdout",
     "output_type": "stream",
     "text": [
      "[ 9  8 40 80]\n"
     ]
    }
   ],
   "source": [
    "#Trazendo somente a ultima coluna\n",
    "\n",
    "print(array[:, -1])"
   ]
  },
  {
   "cell_type": "code",
   "execution_count": 18,
   "id": "345e7832",
   "metadata": {},
   "outputs": [
    {
     "name": "stdout",
     "output_type": "stream",
     "text": [
      "[50 60 70 80]\n"
     ]
    }
   ],
   "source": [
    "#Trazendo somente a ultima linha\n",
    "\n",
    "print(array[-1,:])"
   ]
  },
  {
   "cell_type": "code",
   "execution_count": 22,
   "id": "3497baea",
   "metadata": {},
   "outputs": [
    {
     "name": "stdout",
     "output_type": "stream",
     "text": [
      "[[1 2]\n",
      " [3 4]\n",
      " [5 6]]\n"
     ]
    }
   ],
   "source": [
    "#Concatenando arrays multidimensionais\n",
    "\n",
    "A = np.array([[1,2],[3,4]])\n",
    "B = np.array([[5,6]])\n",
    "\n",
    "C = np.concatenate((A, B))\n",
    "\n",
    "print(C)"
   ]
  },
  {
   "cell_type": "code",
   "execution_count": null,
   "id": "51e7fb70",
   "metadata": {},
   "outputs": [],
   "source": []
  }
 ],
 "metadata": {
  "kernelspec": {
   "display_name": "Python 3 (ipykernel)",
   "language": "python",
   "name": "python3"
  },
  "language_info": {
   "codemirror_mode": {
    "name": "ipython",
    "version": 3
   },
   "file_extension": ".py",
   "mimetype": "text/x-python",
   "name": "python",
   "nbconvert_exporter": "python",
   "pygments_lexer": "ipython3",
   "version": "3.9.13"
  }
 },
 "nbformat": 4,
 "nbformat_minor": 5
}
