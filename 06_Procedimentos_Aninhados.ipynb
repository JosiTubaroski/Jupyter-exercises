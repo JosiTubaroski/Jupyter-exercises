{
 "cells": [
  {
   "cell_type": "markdown",
   "id": "23cf0196",
   "metadata": {},
   "source": [
    "Procedimentos Aninhados"
   ]
  },
  {
   "cell_type": "code",
   "execution_count": 1,
   "id": "b3e8a9ae",
   "metadata": {},
   "outputs": [],
   "source": [
    "def pessoa(a):\n",
    "    return a + \" vai a/ao\""
   ]
  },
  {
   "cell_type": "code",
   "execution_count": 2,
   "id": "e764c97f",
   "metadata": {},
   "outputs": [],
   "source": [
    "def lugar(b):\n",
    "    return b + \"!!!\""
   ]
  },
  {
   "cell_type": "code",
   "execution_count": 3,
   "id": "07c5759b",
   "metadata": {},
   "outputs": [],
   "source": [
    "def frase(a,b):\n",
    "    sujeito = pessoa(a)\n",
    "    local = lugar(b)\n",
    "    return sujeito + \" \" + local"
   ]
  },
  {
   "cell_type": "code",
   "execution_count": 4,
   "id": "23997bb9",
   "metadata": {},
   "outputs": [
    {
     "data": {
      "text/plain": [
       "'Mafra vai a/ao Canadá!!!'"
      ]
     },
     "execution_count": 4,
     "metadata": {},
     "output_type": "execute_result"
    }
   ],
   "source": [
    "frase('Mafra', 'Canadá')"
   ]
  },
  {
   "cell_type": "code",
   "execution_count": null,
   "id": "f301b7dd",
   "metadata": {},
   "outputs": [],
   "source": [
    "#Dados 3 números, descubra o maior deles.\n",
    "#Há varias formas de resolver o problema"
   ]
  },
  {
   "cell_type": "code",
   "execution_count": 1,
   "id": "cce0e55e",
   "metadata": {},
   "outputs": [],
   "source": [
    "def maiorNum(a,b):\n",
    "    if a > b:\n",
    "        return a\n",
    "    elif b > a:\n",
    "        return b\n",
    "    else:\n",
    "        return a"
   ]
  },
  {
   "cell_type": "code",
   "execution_count": 2,
   "id": "722f784f",
   "metadata": {},
   "outputs": [
    {
     "data": {
      "text/plain": [
       "21"
      ]
     },
     "execution_count": 2,
     "metadata": {},
     "output_type": "execute_result"
    }
   ],
   "source": [
    "maiorNum(20,21)"
   ]
  },
  {
   "cell_type": "code",
   "execution_count": 3,
   "id": "ff3dcbf2",
   "metadata": {},
   "outputs": [
    {
     "data": {
      "text/plain": [
       "20"
      ]
     },
     "execution_count": 3,
     "metadata": {},
     "output_type": "execute_result"
    }
   ],
   "source": [
    "maiorNum(20,20)"
   ]
  },
  {
   "cell_type": "code",
   "execution_count": 4,
   "id": "d36d8291",
   "metadata": {},
   "outputs": [
    {
     "data": {
      "text/plain": [
       "5"
      ]
     },
     "execution_count": 4,
     "metadata": {},
     "output_type": "execute_result"
    }
   ],
   "source": [
    "maiorNum(5,3)"
   ]
  },
  {
   "cell_type": "code",
   "execution_count": 8,
   "id": "eca9d35b",
   "metadata": {},
   "outputs": [],
   "source": [
    "def maiorTres(a,b,c):\n",
    "    aux = maiorNum(a,b)\n",
    "    if aux > c:\n",
    "        return aux\n",
    "    elif c > aux:\n",
    "        return c\n",
    "    else:\n",
    "        return aux"
   ]
  },
  {
   "cell_type": "code",
   "execution_count": 10,
   "id": "fec874cd",
   "metadata": {},
   "outputs": [
    {
     "data": {
      "text/plain": [
       "511"
      ]
     },
     "execution_count": 10,
     "metadata": {},
     "output_type": "execute_result"
    }
   ],
   "source": [
    "maiorTres(511,12,13)"
   ]
  },
  {
   "cell_type": "code",
   "execution_count": null,
   "id": "7bd3047d",
   "metadata": {},
   "outputs": [],
   "source": []
  }
 ],
 "metadata": {
  "kernelspec": {
   "display_name": "Python 3 (ipykernel)",
   "language": "python",
   "name": "python3"
  },
  "language_info": {
   "codemirror_mode": {
    "name": "ipython",
    "version": 3
   },
   "file_extension": ".py",
   "mimetype": "text/x-python",
   "name": "python",
   "nbconvert_exporter": "python",
   "pygments_lexer": "ipython3",
   "version": "3.9.13"
  }
 },
 "nbformat": 4,
 "nbformat_minor": 5
}
