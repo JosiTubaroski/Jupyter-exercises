{
 "cells": [
  {
   "cell_type": "code",
   "execution_count": 1,
   "id": "495ffaf8",
   "metadata": {},
   "outputs": [],
   "source": [
    "#A diferença entre em return e um print é que voce pode fazer qualquer coisa. Podendo atribuir um retorno a uma variavel, fazer\n",
    "#qualquer operação, inclusive imprimir o retorno.\n",
    "\n",
    "def soma(a,b):\n",
    "    return(a + b)"
   ]
  },
  {
   "cell_type": "code",
   "execution_count": 3,
   "id": "a791c768",
   "metadata": {},
   "outputs": [
    {
     "name": "stdout",
     "output_type": "stream",
     "text": [
      "30\n"
     ]
    }
   ],
   "source": [
    "print(soma(10,20))"
   ]
  },
  {
   "cell_type": "code",
   "execution_count": 7,
   "id": "c9b462df",
   "metadata": {},
   "outputs": [],
   "source": [
    "#Definir um procedimento que verifique se um numero é maior que o outro\n",
    "#util para estatistica\n",
    "\n",
    "def verificacao(a,b):\n",
    "    if a > b:\n",
    "        return a\n",
    "    elif b > a:\n",
    "        return b\n",
    "    else:\n",
    "        return \"Numeros iguais\""
   ]
  },
  {
   "cell_type": "code",
   "execution_count": 8,
   "id": "cdfba84e",
   "metadata": {},
   "outputs": [
    {
     "data": {
      "text/plain": [
       "'Numeros iguais'"
      ]
     },
     "execution_count": 8,
     "metadata": {},
     "output_type": "execute_result"
    }
   ],
   "source": [
    "verificacao(10,10)"
   ]
  },
  {
   "cell_type": "code",
   "execution_count": 9,
   "id": "1abc6f68",
   "metadata": {},
   "outputs": [
    {
     "data": {
      "text/plain": [
       "40"
      ]
     },
     "execution_count": 9,
     "metadata": {},
     "output_type": "execute_result"
    }
   ],
   "source": [
    "verificacao(30,40)"
   ]
  },
  {
   "cell_type": "code",
   "execution_count": 10,
   "id": "85a59d62",
   "metadata": {},
   "outputs": [],
   "source": [
    "def concat (a,b):\n",
    "    return a + \" \" + b"
   ]
  },
  {
   "cell_type": "code",
   "execution_count": 11,
   "id": "ac29d265",
   "metadata": {},
   "outputs": [
    {
     "data": {
      "text/plain": [
       "'uma Vez'"
      ]
     },
     "execution_count": 11,
     "metadata": {},
     "output_type": "execute_result"
    }
   ],
   "source": [
    "concat(\"uma\",\"Vez\")"
   ]
  },
  {
   "cell_type": "code",
   "execution_count": null,
   "id": "f35da0ed",
   "metadata": {},
   "outputs": [],
   "source": [
    "#Defina um procedimento que verifica se um numero é par ou impar"
   ]
  },
  {
   "cell_type": "code",
   "execution_count": 18,
   "id": "26c899f9",
   "metadata": {},
   "outputs": [],
   "source": [
    "def parImpar(num):\n",
    "    mod = num % 2\n",
    "    \n",
    "    if mod == 0:\n",
    "     return(\"Par\")\n",
    "    else:\n",
    "     return(\"Impar\")"
   ]
  },
  {
   "cell_type": "code",
   "execution_count": 23,
   "id": "958b0615",
   "metadata": {},
   "outputs": [
    {
     "name": "stdout",
     "output_type": "stream",
     "text": [
      "Par\n",
      "Impar\n"
     ]
    }
   ],
   "source": [
    "print(parImpar(10))\n",
    "print(parImpar(11))"
   ]
  },
  {
   "cell_type": "code",
   "execution_count": 26,
   "id": "162b6f7d",
   "metadata": {},
   "outputs": [],
   "source": [
    "numero = 10\n",
    "\n",
    "def potencia(numero, pot):\n",
    "    numero = numero ** pot\n",
    "    print(numero)"
   ]
  },
  {
   "cell_type": "code",
   "execution_count": 27,
   "id": "96c06827",
   "metadata": {},
   "outputs": [
    {
     "name": "stdout",
     "output_type": "stream",
     "text": [
      "100\n"
     ]
    }
   ],
   "source": [
    "potencia(numero,2)"
   ]
  },
  {
   "cell_type": "code",
   "execution_count": 28,
   "id": "3bc93b2b",
   "metadata": {},
   "outputs": [
    {
     "name": "stdout",
     "output_type": "stream",
     "text": [
      "10\n"
     ]
    }
   ],
   "source": [
    "print(numero)"
   ]
  },
  {
   "cell_type": "code",
   "execution_count": 33,
   "id": "3d4f5221",
   "metadata": {},
   "outputs": [],
   "source": [
    "numero = 10\n",
    "\n",
    "def potencia(numero,pot):\n",
    "    numero2 = numero ** pot\n",
    "    print(numero2)"
   ]
  },
  {
   "cell_type": "code",
   "execution_count": 34,
   "id": "8c41963e",
   "metadata": {},
   "outputs": [
    {
     "name": "stdout",
     "output_type": "stream",
     "text": [
      "100\n"
     ]
    }
   ],
   "source": [
    "potencia(10,2)"
   ]
  },
  {
   "cell_type": "code",
   "execution_count": 36,
   "id": "f4dddd72",
   "metadata": {},
   "outputs": [
    {
     "ename": "NameError",
     "evalue": "name 'numero2' is not defined",
     "output_type": "error",
     "traceback": [
      "\u001b[1;31m---------------------------------------------------------------------------\u001b[0m",
      "\u001b[1;31mNameError\u001b[0m                                 Traceback (most recent call last)",
      "\u001b[1;32m~\\AppData\\Local\\Temp\\ipykernel_5844\\229592111.py\u001b[0m in \u001b[0;36m<module>\u001b[1;34m\u001b[0m\n\u001b[1;32m----> 1\u001b[1;33m \u001b[0mprint\u001b[0m\u001b[1;33m(\u001b[0m\u001b[0mnumero2\u001b[0m\u001b[1;33m)\u001b[0m\u001b[1;33m\u001b[0m\u001b[1;33m\u001b[0m\u001b[0m\n\u001b[0m",
      "\u001b[1;31mNameError\u001b[0m: name 'numero2' is not defined"
     ]
    }
   ],
   "source": [
    "print(numero2)"
   ]
  },
  {
   "cell_type": "code",
   "execution_count": null,
   "id": "07f5735b",
   "metadata": {},
   "outputs": [],
   "source": []
  }
 ],
 "metadata": {
  "kernelspec": {
   "display_name": "Python 3 (ipykernel)",
   "language": "python",
   "name": "python3"
  },
  "language_info": {
   "codemirror_mode": {
    "name": "ipython",
    "version": 3
   },
   "file_extension": ".py",
   "mimetype": "text/x-python",
   "name": "python",
   "nbconvert_exporter": "python",
   "pygments_lexer": "ipython3",
   "version": "3.9.13"
  }
 },
 "nbformat": 4,
 "nbformat_minor": 5
}
